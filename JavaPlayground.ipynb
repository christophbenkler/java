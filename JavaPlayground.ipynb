{
 "cells": [
  {
   "cell_type": "markdown",
   "metadata": {},
   "source": [
    "# JavaPlayground"
   ]
  },
  {
   "cell_type": "code",
   "execution_count": 104,
   "metadata": {},
   "outputs": [],
   "source": [
    "/** Implementation einer einfach-verketteten Liste */\n",
    "public class LinkedList {\n",
    "\n",
    "  /** Die Klasse Node repräsentiert die einzelnen Knoten in der Liste */\n",
    "  class Node {\n",
    "    Node(int item) {\n",
    "      this.item = item;\n",
    "    }\n",
    "\n",
    "    int item;\n",
    "\n",
    "    Node next = null;\n",
    "  }\n",
    "\n",
    "  // Referenz auf das erste Element\n",
    "  Node first = null;\n",
    "\n",
    "  /** Fügt ein neues Element am Anfang der Liste ein. */\n",
    "  void add(int element) {\n",
    "    Node newNode = new Node(element);\n",
    "    newNode.next = first;\n",
    "    first = newNode;\n",
    "  }\n",
    "\n",
    "  /**\n",
    "   * Gibt das grösste, in der Liste vorhandene, Element aus. Falls die Liste leer ist, soll\n",
    "   * Integer.MIN_VALUE zurückgegeben werden. (1 Punkt)\n",
    "   */\n",
    "  int max() {\n",
    "\n",
    "    int max = Integer.MIN_VALUE;\n",
    "    Node currentNode = this.first;\n",
    "    while (currentNode != null) {\n",
    "        System.out.println(currentNode.item);\n",
    "        if (currentNode.item > max) {\n",
    "            max = currentNode.item;\n",
    "        }\n",
    "        currentNode = currentNode.next;\n",
    "    }\n",
    "    return max;\n",
    "  }\n",
    "    \n",
    "  int maxRec() {\n",
    "    if (this.first.item > this.first.next.item) {\n",
    "        return this.first.item;\n",
    "    } else {\n",
    "        return this.first.next.maxRec();\n",
    "    }\n",
    "  }\n",
    "\n",
    "}\n"
   ]
  },
  {
   "cell_type": "code",
   "execution_count": 105,
   "metadata": {},
   "outputs": [
    {
     "ename": "UnresolvedReferenceException",
     "evalue": "Attempt to use definition snippet with unresolved references in Snippet:ClassKey(LinkedList)#25-/** Implementation einer einfach-verketteten Liste */\npublic class LinkedList {\n\n  /** Die Klasse Node repräsentiert die einzelnen Knoten in der Liste */\n  class Node {\n    Node(int item) {\n      this.item = item;\n    }\n\n    int item;\n\n    Node next = null;\n  }\n\n  // Referenz auf das erste Element\n  Node first = null;\n\n  /** Fügt ein neues Element am Anfang der Liste ein. */\n  void add(int element) {\n    Node newNode = new Node(element);\n    newNode.next = first;\n    first = newNode;\n  }\n\n  /**\n   * Gibt das grösste, in der Liste vorhandene, Element aus. Falls die Liste leer ist, soll\n   * Integer.MIN_VALUE zurückgegeben werden. (1 Punkt)\n   */\n  int max() {\n\n    int max = Integer.MIN_VALUE;\n    Node currentNode = this.first;\n    while (currentNode != null) {\n        System.out.println(currentNode.item);\n        if (currentNode.item > max) {\n            max = currentNode.item;\n        }\n        currentNode = currentNode.next;\n    }\n    return max;\n  }\n    \n  int maxRec() {\n    if (this.first.item > this.first.next.item) {\n        return this.first.item;\n    } else {\n        return this.first.next.maxRec();\n    }\n  }\n\n}\n",
     "output_type": "error",
     "traceback": [
      "\u001b[1m\u001b[30m|   \u001b[1m\u001b[30m/** Implementation einer einfach-verketteten Liste */\u001b[0m",
      "\u001b[1m\u001b[30m|   \u001b[1m\u001b[30mpublic class LinkedList {\u001b[0m",
      "\u001b[1m\u001b[30m|   \u001b[1m\u001b[30m\u001b[0m",
      "\u001b[1m\u001b[30m|   \u001b[1m\u001b[30m  /** Die Klasse Node repräsentiert die einzelnen Knoten in der Liste */\u001b[0m",
      "\u001b[1m\u001b[30m|   \u001b[1m\u001b[30m  class Node {\u001b[0m",
      "\u001b[1m\u001b[30m|   \u001b[1m\u001b[30m    Node(int item) {\u001b[0m",
      "\u001b[1m\u001b[30m|   \u001b[1m\u001b[30m      this.item = item;\u001b[0m",
      "\u001b[1m\u001b[30m|   \u001b[1m\u001b[30m    }\u001b[0m",
      "\u001b[1m\u001b[30m|   \u001b[1m\u001b[30m\u001b[0m",
      "\u001b[1m\u001b[30m|   \u001b[1m\u001b[30m    int item;\u001b[0m",
      "\u001b[1m\u001b[30m|   \u001b[1m\u001b[30m\u001b[0m",
      "\u001b[1m\u001b[30m|   \u001b[1m\u001b[30m    Node next = null;\u001b[0m",
      "\u001b[1m\u001b[30m|   \u001b[1m\u001b[30m  }\u001b[0m",
      "\u001b[1m\u001b[30m|   \u001b[1m\u001b[30m\u001b[0m",
      "\u001b[1m\u001b[30m|   \u001b[1m\u001b[30m  // Referenz auf das erste Element\u001b[0m",
      "\u001b[1m\u001b[30m|   \u001b[1m\u001b[30m  Node first = null;\u001b[0m",
      "\u001b[1m\u001b[30m|   \u001b[1m\u001b[30m\u001b[0m",
      "\u001b[1m\u001b[30m|   \u001b[1m\u001b[30m  /** Fügt ein neues Element am Anfang der Liste ein. */\u001b[0m",
      "\u001b[1m\u001b[30m|   \u001b[1m\u001b[30m  void add(int element) {\u001b[0m",
      "\u001b[1m\u001b[30m|   \u001b[1m\u001b[30m    Node newNode = new Node(element);\u001b[0m",
      "\u001b[1m\u001b[30m|   \u001b[1m\u001b[30m    newNode.next = first;\u001b[0m",
      "\u001b[1m\u001b[30m|   \u001b[1m\u001b[30m    first = newNode;\u001b[0m",
      "\u001b[1m\u001b[30m|   \u001b[1m\u001b[30m  }\u001b[0m",
      "\u001b[1m\u001b[30m|   \u001b[1m\u001b[30m\u001b[0m",
      "\u001b[1m\u001b[30m|   \u001b[1m\u001b[30m  /**\u001b[0m",
      "\u001b[1m\u001b[30m|   \u001b[1m\u001b[30m   * Gibt das grösste, in der Liste vorhandene, Element aus. Falls die Liste leer ist, soll\u001b[0m",
      "\u001b[1m\u001b[30m|   \u001b[1m\u001b[30m   * Integer.MIN_VALUE zurückgegeben werden. (1 Punkt)\u001b[0m",
      "\u001b[1m\u001b[30m|   \u001b[1m\u001b[30m   */\u001b[0m",
      "\u001b[1m\u001b[30m|   \u001b[1m\u001b[30m  int max() {\u001b[0m",
      "\u001b[1m\u001b[30m|   \u001b[1m\u001b[30m\u001b[0m",
      "\u001b[1m\u001b[30m|   \u001b[1m\u001b[30m    int max = Integer.MIN_VALUE;\u001b[0m",
      "\u001b[1m\u001b[30m|   \u001b[1m\u001b[30m    Node currentNode = this.first;\u001b[0m",
      "\u001b[1m\u001b[30m|   \u001b[1m\u001b[30m    while (currentNode != null) {\u001b[0m",
      "\u001b[1m\u001b[30m|   \u001b[1m\u001b[30m        System.out.println(currentNode.item);\u001b[0m",
      "\u001b[1m\u001b[30m|   \u001b[1m\u001b[30m        if (currentNode.item > max) {\u001b[0m",
      "\u001b[1m\u001b[30m|   \u001b[1m\u001b[30m            max = currentNode.item;\u001b[0m",
      "\u001b[1m\u001b[30m|   \u001b[1m\u001b[30m        }\u001b[0m",
      "\u001b[1m\u001b[30m|   \u001b[1m\u001b[30m        currentNode = currentNode.next;\u001b[0m",
      "\u001b[1m\u001b[30m|   \u001b[1m\u001b[30m    }\u001b[0m",
      "\u001b[1m\u001b[30m|   \u001b[1m\u001b[30m    return max;\u001b[0m",
      "\u001b[1m\u001b[30m|   \u001b[1m\u001b[30m  }\u001b[0m",
      "\u001b[1m\u001b[30m|   \u001b[1m\u001b[30m    \u001b[0m",
      "\u001b[1m\u001b[30m|   \u001b[1m\u001b[30m  int maxRec() {\u001b[0m",
      "\u001b[1m\u001b[30m|   \u001b[1m\u001b[30m    if (this.first.item > this.first.next.item) {\u001b[0m",
      "\u001b[1m\u001b[30m|   \u001b[1m\u001b[30m        return this.first.item;\u001b[0m",
      "\u001b[1m\u001b[30m|   \u001b[1m\u001b[30m    } else {\u001b[0m",
      "\u001b[1m\u001b[30m|   \u001b[1m\u001b[30m        return this.first.next.maxRec();\u001b[0m",
      "\u001b[1m\u001b[30m|   \u001b[1m\u001b[30m    }\u001b[0m",
      "\u001b[1m\u001b[30m|   \u001b[1m\u001b[30m  }\u001b[0m",
      "\u001b[1m\u001b[30m|   \u001b[1m\u001b[30m\u001b[0m",
      "\u001b[1m\u001b[30m|   \u001b[1m\u001b[30m}\u001b[0m",
      "\u001b[1m\u001b[31mUnresolved dependencies:\u001b[0m",
      "\u001b[1m\u001b[31m   - method maxRec()\u001b[0m"
     ]
    }
   ],
   "source": [
    "LinkedList ll = new LinkedList();"
   ]
  },
  {
   "cell_type": "code",
   "execution_count": 98,
   "metadata": {},
   "outputs": [
    {
     "ename": "EvalException",
     "evalue": "null",
     "output_type": "error",
     "traceback": [
      "\u001b[1m\u001b[31m---------------------------------------------------------------------------\u001b[0m",
      "\u001b[1m\u001b[31mjava.lang.NullPointerException: null\u001b[0m",
      "\u001b[1m\u001b[31m\tat .(#75:1)\u001b[0m"
     ]
    }
   ],
   "source": [
    "ll.add(1)"
   ]
  },
  {
   "cell_type": "code",
   "execution_count": 93,
   "metadata": {},
   "outputs": [],
   "source": [
    "ll.add(2)"
   ]
  },
  {
   "cell_type": "code",
   "execution_count": 94,
   "metadata": {},
   "outputs": [],
   "source": [
    "ll.add(3)"
   ]
  },
  {
   "cell_type": "code",
   "execution_count": 95,
   "metadata": {},
   "outputs": [
    {
     "name": "stdout",
     "output_type": "stream",
     "text": [
      "3\n",
      "2\n",
      "1\n"
     ]
    },
    {
     "data": {
      "text/plain": [
       "3"
      ]
     },
     "execution_count": 95,
     "metadata": {},
     "output_type": "execute_result"
    }
   ],
   "source": [
    "ll.max()"
   ]
  },
  {
   "cell_type": "code",
   "execution_count": null,
   "metadata": {},
   "outputs": [],
   "source": []
  }
 ],
 "metadata": {
  "kernelspec": {
   "display_name": "Java",
   "language": "java",
   "name": "java"
  },
  "language_info": {
   "codemirror_mode": "java",
   "file_extension": ".jshell",
   "mimetype": "text/x-java-source",
   "name": "Java",
   "pygments_lexer": "java",
   "version": "11.0.6+10"
  }
 },
 "nbformat": 4,
 "nbformat_minor": 2
}
