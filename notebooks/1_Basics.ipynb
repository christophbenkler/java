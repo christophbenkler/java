{
 "cells": [
  {
   "cell_type": "markdown",
   "metadata": {
    "slideshow": {
     "slide_type": "slide"
    }
   },
   "source": [
    "# Java 1 | Basics\n",
    "🔗 [interaktiv](https://mybinder.org/v2/gh/gymnasium-immensee/binder/master?urlpath=git-pull%3Frepo%3Dhttps%253A%252F%252Fgithub.com%252Fgymnasium-immensee%252Fjava%26urlpath%3Dtree%252Fjava%252Fnotebooks%26branch%3Dmaster)\n",
    "\n",
    "## Das Notizbuch interaktiv verwenden:\n",
    "1. ⬆️ obigen Link klicken\n",
    "1. Die entsprechende Datei (xy.ipynb) öffnen\n",
    "1. Hier kann man den Code beliebig anpassen und laufen lassen, wobei Änderungen nicht gespeichert werden\n",
    "\n",
    "🚀 Optional könnte man Jupyter auch lokal installieren: 1. [Anaconda](https://www.anaconda.com) installieren, 2. [IJava](https://github.com/SpencerPark/IJava) installieren"
   ]
  },
  {
   "cell_type": "markdown",
   "metadata": {
    "slideshow": {
     "slide_type": "slide"
    }
   },
   "source": [
    "## Geschichte von Java\n",
    "\n",
    "* 1995 / Sprache & Plattform\n",
    "* General purpose / Objektorientiert / Statisch typisiert / Plattformunabhängig / Garbage collected / Mitglied der C-Familie / Frei / einfache GUIs\n",
    "* Popularitäts-Index: [pypl.github.io](http://pypl.github.io) /[ tiobe.com/tiobe-index](http://tiobe.com/tiobe-index)\n",
    "* Relativ komplex, einfaches ≠ einfach (siehe HelloWorld.java)\n",
    "* Erst für Settop-Boxen, dann fürs Internet, dann für Android (~> Kotlin)"
   ]
  },
  {
   "cell_type": "markdown",
   "metadata": {
    "slideshow": {
     "slide_type": "slide"
    }
   },
   "source": [
    "## ☕️ Java Entwicklungsumgebung einrichten\n",
    "\n",
    "1. Java Development Kit installieren:\n",
    "    * Windows: <https://adoptopenjdk.net/> > Other platforms > OpenJDK 11 (LTS) > Architecture: x86 > JDK (≠~~JRE~~) > .msi > installieren\n",
    "    * Mac: <https://adoptopenjdk.net/> > Version 11 / 64 bit\n",
    "1. [Visual Studio Code installieren](https://code.visualstudio.com)\n",
    "1. [Visual Studio Code Java Extension Pack installieren](https://marketplace.visualstudio.com/items?itemName=vscjava.vscode-java-pack)\n",
    "1. Ordner anlegen & mit VisualStudio Code öffnen\n",
    "1. Datei «Hello.java» mit folgendem Inhalt erstellen & mit `Run` laufen lassen:"
   ]
  },
  {
   "cell_type": "markdown",
   "metadata": {},
   "source": [
    "``` java\n",
    "public class Hello {\n",
    "    public static void main(String[] args){\n",
    "        \n",
    "        // Das ist ein Kommentar\n",
    "        \n",
    "        /*\n",
    "        Das ist ein\n",
    "        zeilenübergreifender\n",
    "        Kommentar\n",
    "        */\n",
    "\n",
    "        // Die folgende Zeile gibt «Hello» aus:\n",
    "        System.out.println(\"Hello\");\n",
    "    }\n",
    "}\n",
    "```"
   ]
  },
  {
   "cell_type": "markdown",
   "metadata": {
    "slideshow": {
     "slide_type": "slide"
    }
   },
   "source": [
    "## Grundsätzliches\n",
    "\n",
    "Hinweis: In diesem Notizbuch läuft der Code ohne das obige «Gerüst». Am besten kopiert man ihn z.B. in das Gerüst der «Hello.java» Datei und lässt ihn mit «Run» laufen."
   ]
  },
  {
   "cell_type": "code",
   "execution_count": 1,
   "metadata": {
    "slideshow": {
     "slide_type": "-"
    }
   },
   "outputs": [
    {
     "name": "stdout",
     "output_type": "stream",
     "text": [
      "Hello\n"
     ]
    }
   ],
   "source": [
    "// Das ist ein Kommentar\n",
    "\n",
    "/*\n",
    "Das ist ein\n",
    "zeilenübergreifender\n",
    "Kommentar\n",
    "*/\n",
    "\n",
    "/**\n",
    " * Ein Javadoc-Kommentar\n",
    " */\n",
    "\n",
    "// Die folgende Zeile gibt «Hello» aus:\n",
    "System.out.println(\"Hello\");"
   ]
  },
  {
   "cell_type": "markdown",
   "metadata": {
    "slideshow": {
     "slide_type": "slide"
    }
   },
   "source": [
    "## Variablen und Datentypen"
   ]
  },
  {
   "cell_type": "markdown",
   "metadata": {
    "slideshow": {
     "slide_type": "-"
    }
   },
   "source": [
    "### Deklaration von Variablen:\n",
    "* `datentyp variablenName;`\n",
    "* typischerweise zuoberst\n",
    "* strongly typed: Typ muss angegeben werden (nicht so z.B. bei Python)\n",
    "* mit Kleinbuchstaben beginnend, oder `_` oder `$`\n",
    "* möglichst Vielsagender Name, ausser z.B. bei Schleifen (typischerweise i/j)\n",
    "* `camelCase`, seltener `snake_case`: konsistent eine Variante\n",
    "* ⚠️ keines der folgenden Schlüsselwörter:\n",
    "\n",
    "```java\n",
    "abstractassert  boolean  break  byte  case  catch  char  class  const  continue  default  do  double  else  enum  extends  final  finally  float  for  goto  if  implements  import  instanceof  int  interface  long  native  new  package  private  protected  public  return  short  static  strictfp  super  switch  synchronized  this  throw  throws  transient  try  void  volatile  while\n",
    "```\n",
    "\n"
   ]
  },
  {
   "cell_type": "code",
   "execution_count": 12,
   "metadata": {
    "slideshow": {
     "slide_type": "slide"
    }
   },
   "outputs": [
    {
     "name": "stdout",
     "output_type": "stream",
     "text": [
      "ganzZahl: 0\n",
      "fliessKommaZahl: 0.0\n"
     ]
    }
   ],
   "source": [
    "// Deklaration\n",
    "\n",
    "int ganzZahl;\n",
    "double fliessKommaZahl;\n",
    "\n",
    "System.out.println(\"ganzZahl: \" + ganzZahl);\n",
    "System.out.println(\"fliessKommaZahl: \" + fliessKommaZahl);"
   ]
  },
  {
   "cell_type": "markdown",
   "metadata": {
    "slideshow": {
     "slide_type": "slide"
    }
   },
   "source": [
    "### Datentypen\n",
    "\n",
    "| Datentyp | Beschreibung       | Inhalt/Umfang                 | Bits |\n",
    "|----------|--------------------|-------------------------------|------|\n",
    "| boolean  | boolscher Wert     | true, false                   | 8    |\n",
    "| char     | Zeichen, Buchstabe | 'c', '\\n', '\\u0035'           | 16   |\n",
    "| byte     | Ganzzahl           | $-2^7$ bis $2^7-1$                | 8    |\n",
    "| short    | \"                  | $-2^{15}$ bis $2^{15}-1$              | 16   |\n",
    "| int      | \"                  | $-2^{31}$ bis $2^{31}-1$              | 32   |\n",
    "| long     | \"                  | $-2^{63}$ bis $2^{63}-1$              | 64   |\n",
    "| float    | Gleitkommazahl     | siehe unten                   | 32   |\n",
    "| double   | \"                  | siehe unten                   | 64   |"
   ]
  },
  {
   "cell_type": "code",
   "execution_count": 1,
   "metadata": {},
   "outputs": [
    {
     "name": "stdout",
     "output_type": "stream",
     "text": [
      "Byte: von -128 bis 127\n",
      "Short: von -32768 bis 32767\n",
      "Integer: von -2147483648 bis 2147483647\n",
      "Long: von -9223372036854775808 bis 9223372036854775807\n",
      "\n",
      "Float: von 1.4E-45 bis 3.4028235E38\n",
      "Double: von 4.9E-324 bis 1.7976931348623157E308\n"
     ]
    }
   ],
   "source": [
    "System.out.println(\"Byte: von \" + Byte.MIN_VALUE + \" bis \" + Byte.MAX_VALUE);\n",
    "System.out.println(\"Short: von \" + Short.MIN_VALUE + \" bis \" + Short.MAX_VALUE);\n",
    "System.out.println(\"Integer: von \" + Integer.MIN_VALUE + \" bis \" + Integer.MAX_VALUE);\n",
    "System.out.println(\"Long: von \" + Long.MIN_VALUE + \" bis \" + Long.MAX_VALUE);\n",
    "System.out.println();\n",
    "System.out.println(\"Float: von \" + Float.MIN_VALUE + \" bis \" + Float.MAX_VALUE);\n",
    "System.out.println(\"Double: von \" + Double.MIN_VALUE + \" bis \" + Double.MAX_VALUE);"
   ]
  },
  {
   "cell_type": "markdown",
   "metadata": {
    "slideshow": {
     "slide_type": "slide"
    }
   },
   "source": [
    "### Initialisierung von Variablen"
   ]
  },
  {
   "cell_type": "code",
   "execution_count": 13,
   "metadata": {
    "slideshow": {
     "slide_type": "-"
    }
   },
   "outputs": [
    {
     "name": "stdout",
     "output_type": "stream",
     "text": [
      "ganzZahl: 7\n",
      "fliessKommaZahl: 4.0\n",
      "zeichen: A\n"
     ]
    }
   ],
   "source": [
    "// nach bereits erfolgter Deklaration (siehe weiter oben)\n",
    "\n",
    "ganzZahl= 7;\n",
    "fliessKommaZahl = 4.0;\n",
    "\n",
    "// Deklaration & Initialisierung kann auch in einem Schritt erfolgen:\n",
    "\n",
    "char zeichen = 'A';\n",
    "\n",
    "System.out.println(\"ganzZahl: \" + ganzZahl);\n",
    "System.out.println(\"fliessKommaZahl: \" + fliessKommaZahl);\n",
    "System.out.println(\"zeichen: \" + zeichen);"
   ]
  },
  {
   "cell_type": "markdown",
   "metadata": {
    "slideshow": {
     "slide_type": "slide"
    }
   },
   "source": [
    "### Explizite Typumwandlung («cast'en»)\n",
    "(bei Arithmetik gewinnt «weitester» Typ)"
   ]
  },
  {
   "cell_type": "code",
   "execution_count": 78,
   "metadata": {},
   "outputs": [
    {
     "name": "stdout",
     "output_type": "stream",
     "text": [
      "int i: 3093\n",
      "byte b: 21\n",
      "char c: @\n",
      "Integer Zahl: 42\n"
     ]
    }
   ],
   "source": [
    "int i = 3093;\n",
    "System.out.println(\"int i: \" + i);\n",
    "\n",
    "byte b = (byte) i;\n",
    "System.out.println(\"byte b: \" + b);\n",
    "\n",
    "char c = (char) 64;\n",
    "System.out.println(\"char c: \" + c);\n",
    "\n",
    "Integer zahl = Integer.valueOf(\"42\");\n",
    "System.out.println(\"Integer Zahl: \" + zahl);"
   ]
  },
  {
   "cell_type": "markdown",
   "metadata": {
    "slideshow": {
     "slide_type": "slide"
    }
   },
   "source": [
    "### char (Character / Zeichen)\n",
    "\n",
    "* Ganzzahliger Datentyp, ohne Vorzeichen\n",
    "* in einzelnen Hochkommas\n",
    "* Wert des chars wird als [ASCII](https://de.wikipedia.org/wiki/American_Standard_Code_for_Information_Interchange)/[Unicode](https://home.unicode.org) Zeichen interpretiert"
   ]
  },
  {
   "cell_type": "code",
   "execution_count": 7,
   "metadata": {
    "tags": []
   },
   "outputs": [
    {
     "name": "stdout",
     "output_type": "stream",
     "text": [
      "Normaler Buchstabe, gefolgt von neuer Linie: a\n",
      "So gibts......keine neue Linie\n",
      "Zeilenende für ...\n",
      "...Linux, Unix & macOS\n",
      "Carriage\n",
      "Windows-...\n",
      "...Zeilenende\n",
      "Tabu-\tlator\n",
      "\n",
      "Backslash muss mit einem Backslash escaped werden: \\\n",
      "Unicode-Zeichen < FFFF (16 bit): ￨ oder ￨\n",
      "Problem, falls > FFFF: \n",
      "Lösung: 😌 oder 😌\n"
     ]
    }
   ],
   "source": [
    "System.out.println(\"Normaler Buchstabe, gefolgt von neuer Linie: \" + 'a');\n",
    "System.out.print(\"So gibts... \");\n",
    "System.out.print(\"...keine neue Linie\");\n",
    "System.out.println();\n",
    "\n",
    "System.out.println(\"Zeilenende für ...\\n...Linux, Unix & macOS\");\n",
    "System.out.println(\"         return\" + '\\r' + \"Carriage\");\n",
    "System.out.println(\"Windows-...\\r\\n...Zeilenende\");\n",
    "System.out.println(\"Tabu-\\tlator\");\n",
    "System.out.println();\n",
    "\n",
    "System.out.println(\"Backslash muss mit einem Backslash escaped werden: \" + '\\\\');\n",
    "System.out.println(\"Unicode-Zeichen < FFFF (16 bit): \" + '\\uFFE8' + \" oder \" + (char) 0xFFE8);\n",
    "System.out.println(\"Problem, falls > FFFF: \" + (char) 0x1F60C);\n",
    "System.out.println(\"Lösung: \" + Character.toString(0x1F60C) + \" oder 😌\");"
   ]
  },
  {
   "cell_type": "markdown",
   "metadata": {
    "slideshow": {
     "slide_type": "slide"
    }
   },
   "source": [
    "### Rechenoperationen"
   ]
  },
  {
   "cell_type": "code",
   "execution_count": 1,
   "metadata": {},
   "outputs": [
    {
     "name": "stdout",
     "output_type": "stream",
     "text": [
      "x: 3; y: 4\n",
      "==========\n",
      "Addition: 7\n",
      "Subtraktion: -1\n",
      "Multiplikation: 12\n",
      "Division: 0\n",
      "Modulo: 3\n",
      "Wurzel: 2.0\n",
      "Potenzieren: 81.0\n",
      "Exponenzialschreibweise: 1.0E-4\n",
      "Minuszeichen: -3\n",
      "Schön für Übersichtlichkeit: «_» in Zahlen werden ignoriert: 10000000\n"
     ]
    }
   ],
   "source": [
    "int x = 3;\n",
    "int y = 4;\n",
    "\n",
    "System.out.println(\"x: \" + x + \"; y: \" + y);\n",
    "System.out.println(\"==========\");\n",
    "    \n",
    "int add = x + y;\n",
    "System.out.println(\"Addition: \" + add);\n",
    "\n",
    "int sub = x - y;\n",
    "System.out.println(\"Subtraktion: \" + sub);\n",
    "\n",
    "int mul = x * y;\n",
    "System.out.println(\"Multiplikation: \" + mul);\n",
    "\n",
    "int div = x / y;\n",
    "System.out.println(\"Division: \" + div);\n",
    "\n",
    "int mod = x % y;\n",
    "System.out.println(\"Modulo: \" + mod);\n",
    "\n",
    "double sqrt = Math.sqrt(y);\n",
    "System.out.println(\"Wurzel: \" + sqrt);\n",
    "\n",
    "double pow = Math.pow(x,y);\n",
    "System.out.println(\"Potenzieren: \" + pow);\n",
    "\n",
    "\n",
    "\n",
    "double e = 10e-5;\n",
    "System.out.println(\"Exponenzialschreibweise: \" + e);\n",
    "\n",
    "int minus = -x;\n",
    "System.out.println(\"Minuszeichen: \" + minus);\n",
    "\n",
    "System.out.println(\"Schön für Übersichtlichkeit: «_» in Zahlen werden ignoriert: \" + 10_000_000);"
   ]
  },
  {
   "cell_type": "markdown",
   "metadata": {},
   "source": [
    "### Runden & Zufall\n",
    "(Standardmässig rundet Java ab: «floor»)"
   ]
  },
  {
   "cell_type": "code",
   "execution_count": 145,
   "metadata": {},
   "outputs": [
    {
     "name": "stdout",
     "output_type": "stream",
     "text": [
      "0.47\n"
     ]
    }
   ],
   "source": [
    "// «Zufälliger» double zwischen 0 und 1:\n",
    "double random = Math.random();\n",
    "\n",
    "// Runden auf zwei Nachkommastellen:\n",
    "System.out.println(Math.round(random*100)/100.0);"
   ]
  },
  {
   "cell_type": "markdown",
   "metadata": {},
   "source": [
    "### Bin | Oct | Dec | Hex"
   ]
  },
  {
   "cell_type": "code",
   "execution_count": 56,
   "metadata": {},
   "outputs": [
    {
     "name": "stdout",
     "output_type": "stream",
     "text": [
      "10001100101000\n",
      "21450\n",
      "2328\n",
      "9000 | 9000 | 9000\n"
     ]
    }
   ],
   "source": [
    "Integer dec = 9000;\n",
    "System.out.println(Integer.toBinaryString(dec));\n",
    "System.out.println(Integer.toOctalString(dec));\n",
    "System.out.println(Integer.toHexString(dec));\n",
    "\n",
    "int bin = 0b10001100101000; // Binär-Zahlen beginnen mit 0b\n",
    "int oct = 021450; // Oktal-Zahlen beginnen mit 0\n",
    "int hex = 0x2328; // Hexadezimal-Zahlen beginnen mit 0x\n",
    "\n",
    "System.out.println(oct + \" | \" + hex + \" | \" + bin);"
   ]
  },
  {
   "cell_type": "markdown",
   "metadata": {},
   "source": [
    "### Gleitkommazahlen\n",
    "\n",
    "* Float, 32 Bit: `3.14f`\n",
    "* Double, 64 Bit, Standard: `3.14`\n",
    "* Basiert quasi auf Brüchen (1/2, 1/4, 1/8, ...), daher ungenau:"
   ]
  },
  {
   "cell_type": "code",
   "execution_count": 8,
   "metadata": {
    "tags": []
   },
   "outputs": [
    {
     "name": "stdout",
     "output_type": "stream",
     "text": [
      "false\n",
      "1\n"
     ]
    }
   ],
   "source": [
    "double x = 0.1 + 0.1 + 0.1;\n",
    "System.out.println(x == 0.3); // false\n",
    "System.out.println(Double.compare(x, 0.3)); // 1/-1"
   ]
  },
  {
   "cell_type": "markdown",
   "metadata": {},
   "source": [
    "## Puzzle:\n",
    "\n",
    "* Pythagoras: Seite C aus Seiten A & B berechnen"
   ]
  },
  {
   "cell_type": "code",
   "execution_count": null,
   "metadata": {},
   "outputs": [],
   "source": []
  },
  {
   "cell_type": "code",
   "execution_count": null,
   "metadata": {},
   "outputs": [],
   "source": []
  },
  {
   "cell_type": "code",
   "execution_count": null,
   "metadata": {},
   "outputs": [],
   "source": []
  }
 ],
 "metadata": {
  "celltoolbar": "Slideshow",
  "kernelspec": {
   "display_name": "Java",
   "language": "java",
   "name": "java"
  },
  "language_info": {
   "codemirror_mode": "java",
   "file_extension": ".jshell",
   "mimetype": "text/x-java-source",
   "name": "Java",
   "pygments_lexer": "java",
   "version": "11.0.9+11"
  }
 },
 "nbformat": 4,
 "nbformat_minor": 4
}
