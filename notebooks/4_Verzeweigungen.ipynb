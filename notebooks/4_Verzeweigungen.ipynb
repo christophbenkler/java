{
 "cells": [
  {
   "cell_type": "markdown",
   "metadata": {
    "slideshow": {
     "slide_type": "slide"
    }
   },
   "source": [
    "# Java 4 | Verzweigungen\n",
    "🔗 [interaktiv](https://mybinder.org/v2/gh/gymnasium-immensee/binder/master?urlpath=git-pull%3Frepo%3Dhttps%253A%252F%252Fgithub.com%252Fgymnasium-immensee%252Fjava%26urlpath%3Dtree%252Fjava%252Fnotebooks%26branch%3Dmaster)"
   ]
  },
  {
   "cell_type": "markdown",
   "metadata": {
    "slideshow": {
     "slide_type": "slide"
    }
   },
   "source": [
    "## Zwischen zwei Alternativen entscheiden mit `if`"
   ]
  },
  {
   "cell_type": "code",
   "execution_count": 2,
   "metadata": {},
   "outputs": [
    {
     "name": "stdout",
     "output_type": "stream",
     "text": [
      "Bitte Sonnenbrille einpacken\n"
     ]
    }
   ],
   "source": [
    "String wetter = \"sonnig\";\n",
    "\n",
    "if (wetter == \"sonnig\") {\n",
    "    System.out.println(\"Bitte Sonnenbrille einpacken\");\n",
    "}"
   ]
  },
  {
   "cell_type": "markdown",
   "metadata": {
    "slideshow": {
     "slide_type": "slide"
    }
   },
   "source": [
    "## Mehrere Alternativen mit `else`"
   ]
  },
  {
   "cell_type": "code",
   "execution_count": 6,
   "metadata": {},
   "outputs": [
    {
     "name": "stdout",
     "output_type": "stream",
     "text": [
      "Dieses Wetter kenne ich nicht\n"
     ]
    }
   ],
   "source": [
    "String wetter = \"asdf\";\n",
    "\n",
    "if (wetter == \"sonnig\") {\n",
    "    System.out.println(\"Bitte Sonnenbrille einpacken\");\n",
    "} else if (wetter == \"regnerisch\") {\n",
    "    System.out.println(\"Bitte Regenschirm einpacken\");\n",
    "} else if (wetter == \"kalt\") {\n",
    "    System.out.println(\"Bitte Mütze einpacken\");\n",
    "} else {\n",
    "    System.out.println(\"Dieses Wetter kenne ich nicht\");\n",
    "}"
   ]
  },
  {
   "cell_type": "markdown",
   "metadata": {},
   "source": [
    "## Mehrere Alternativen mit `switch`\n",
    "\n",
    "* nur für Gleichheit\n",
    "* keine Gleitkommazahlen\n",
    "* nutzt Tabelle, braucht mehr Speicher, kann aber schneller sein"
   ]
  },
  {
   "cell_type": "code",
   "execution_count": 7,
   "metadata": {},
   "outputs": [
    {
     "name": "stdout",
     "output_type": "stream",
     "text": [
      "Bitte Mütze einpacken\n"
     ]
    }
   ],
   "source": [
    "String wetter = \"kalt\";\n",
    "\n",
    "switch (wetter) {\n",
    "    case \"sonnig\": System.out.println(\"Bitte Sonnenbrille einpacken\");\n",
    "        break;\n",
    "    case \"regnerisch\": System.out.println(\"Bitte Regenschirm einpacken\");\n",
    "        break;\n",
    "    case \"kalt\": System.out.println(\"Bitte Mütze einpacken\");\n",
    "        break;\n",
    "}"
   ]
  },
  {
   "cell_type": "markdown",
   "metadata": {},
   "source": [
    "## Puzzles:\n",
    "\n",
    "* BMI berechnen, und je nach dem eine andere Ausgabe generieren\n",
    "* Maximum zweier Zahlen berechnen\n",
    "* Maximum dreier (vierer, etc) Zahlen berechnen\n",
    "* Grösster gemeinsamer Teiler\n",
    "* alle Ziffern einer Zahl ausgeben\n",
    "* Quersumme berechnen"
   ]
  },
  {
   "cell_type": "code",
   "execution_count": null,
   "metadata": {},
   "outputs": [],
   "source": []
  }
 ],
 "metadata": {
  "celltoolbar": "Slideshow",
  "kernelspec": {
   "display_name": "Java",
   "language": "java",
   "name": "java"
  },
  "language_info": {
   "codemirror_mode": "java",
   "file_extension": ".jshell",
   "mimetype": "text/x-java-source",
   "name": "Java",
   "pygments_lexer": "java",
   "version": "11.0.8+10"
  }
 },
 "nbformat": 4,
 "nbformat_minor": 4
}
