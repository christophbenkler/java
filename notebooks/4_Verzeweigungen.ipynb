{
 "cells": [
  {
   "cell_type": "markdown",
   "metadata": {
    "slideshow": {
     "slide_type": "slide"
    }
   },
   "source": [
    "# Java 4 | Verzweigungen\n",
    "🔗 [interaktiv](https://mybinder.org/v2/gh/gymnasium-immensee/binder/master?urlpath=git-pull%3Frepo%3Dhttps%253A%252F%252Fgithub.com%252Fgymnasium-immensee%252Fjava%26urlpath%3Dtree%252Fjava%252Fnotebooks%26branch%3Dmaster)"
   ]
  },
  {
   "cell_type": "markdown",
   "metadata": {
    "slideshow": {
     "slide_type": "slide"
    }
   },
   "source": [
    "## Zwischen zwei Alternativen entscheiden mit `if`"
   ]
  },
  {
   "cell_type": "code",
   "execution_count": 13,
   "metadata": {},
   "outputs": [
    {
     "name": "stdout",
     "output_type": "stream",
     "text": [
      "Die Zahl ist 0\n"
     ]
    }
   ],
   "source": [
    "int zahl = 0;\n",
    "\n",
    "if (zahl == 0) {\n",
    "    System.out.println(\"Die Zahl ist 0\");\n",
    "}"
   ]
  },
  {
   "cell_type": "code",
   "execution_count": 14,
   "metadata": {},
   "outputs": [
    {
     "name": "stdout",
     "output_type": "stream",
     "text": [
      "ja\n"
     ]
    }
   ],
   "source": [
    "boolean test = true;\n",
    "\n",
    "if (test) {\n",
    "    System.out.println(\"ja\");\n",
    "} else if (!test) {\n",
    "    System.out.println(\"nein\");\n",
    "}"
   ]
  },
  {
   "cell_type": "code",
   "execution_count": 16,
   "metadata": {},
   "outputs": [
    {
     "name": "stdout",
     "output_type": "stream",
     "text": [
      "Bitte Sonnenbrille einpacken\n"
     ]
    }
   ],
   "source": [
    "// ⚠️ Strings können nicht zuverlässig mit `==` vergleichen werden\n",
    "String wetter = \"sonnig\";\n",
    "\n",
    "if (wetter.equals(\"sonnig\")) {\n",
    "    System.out.println(\"Bitte Sonnenbrille einpacken\");\n",
    "}"
   ]
  },
  {
   "cell_type": "markdown",
   "metadata": {
    "slideshow": {
     "slide_type": "slide"
    }
   },
   "source": [
    "## Mehrere Alternativen mit `else`"
   ]
  },
  {
   "cell_type": "code",
   "execution_count": 6,
   "metadata": {},
   "outputs": [
    {
     "name": "stdout",
     "output_type": "stream",
     "text": [
      "Bitte Sonnenbrille einpacken\n"
     ]
    }
   ],
   "source": [
    "String wetter = \"sonnig\";\n",
    "\n",
    "if (wetter.equals(\"sonnig\")) {\n",
    "    System.out.println(\"Bitte Sonnenbrille einpacken\");\n",
    "} else if (wetter.equals(\"regnerisch\")) {\n",
    "    System.out.println(\"Bitte Regenschirm einpacken\");\n",
    "} else if (wetter.equals(\"kalt\")) {\n",
    "    System.out.println(\"Bitte Mütze einpacken\");\n",
    "} else {\n",
    "    System.out.println(\"Dieses Wetter kenne ich nicht\");\n",
    "}"
   ]
  },
  {
   "cell_type": "markdown",
   "metadata": {},
   "source": [
    "## Mehrere Alternativen mit `switch`\n",
    "\n",
    "* nur für Gleichheit\n",
    "* keine Gleitkommazahlen\n",
    "* nutzt Tabelle, braucht mehr Speicher, kann aber schneller sein\n",
    "* Strings werden mit `.equals()` verglichen"
   ]
  },
  {
   "cell_type": "code",
   "execution_count": 7,
   "metadata": {},
   "outputs": [
    {
     "name": "stdout",
     "output_type": "stream",
     "text": [
      "Bitte Mütze einpacken\n"
     ]
    }
   ],
   "source": [
    "String wetter = \"kalt\";\n",
    "\n",
    "switch (wetter) {\n",
    "    case \"sonnig\": System.out.println(\"Bitte Sonnenbrille einpacken\");\n",
    "        break;\n",
    "    case \"regnerisch\": System.out.println(\"Bitte Regenschirm einpacken\");\n",
    "        break;\n",
    "    case \"kalt\": System.out.println(\"Bitte Mütze einpacken\");\n",
    "        break;\n",
    "}"
   ]
  },
  {
   "cell_type": "markdown",
   "metadata": {},
   "source": [
    "## 🧩 Puzzles:"
   ]
  },
  {
   "cell_type": "markdown",
   "metadata": {},
   "source": [
    "### BMI berechnen, und je nach dem eine andere Ausgabe generieren"
   ]
  },
  {
   "cell_type": "code",
   "execution_count": 2,
   "metadata": {},
   "outputs": [
    {
     "name": "stdout",
     "output_type": "stream",
     "text": [
      "Dein BMI beträgt: 22.395413419331717\n",
      "✅ Du hast einen BMI zwischen 20 und 25\n"
     ]
    }
   ],
   "source": [
    "double groesseInM = 1.83;\n",
    "double gewichtInKg = 75;\n",
    "\n",
    "double bmi = gewichtInKg / (groesseInM * groesseInM);\n",
    "\n",
    "System.out.println(\"Dein BMI beträgt: \" + bmi);\n",
    "\n",
    "if (bmi < 20) {\n",
    "    System.out.println(\"🚨 Du hast einen BMI unter 20.\");\n",
    "} else if (bmi <= 25) {\n",
    "    System.out.println(\"✅ Du hast einen BMI zwischen 20 und 25\");\n",
    "} else {\n",
    "    System.out.println(\"🚨 Dein BMI ist über 25.\");\n",
    "}"
   ]
  },
  {
   "cell_type": "markdown",
   "metadata": {},
   "source": [
    "### Maximum zweier Zahlen berechnen"
   ]
  },
  {
   "cell_type": "code",
   "execution_count": 4,
   "metadata": {},
   "outputs": [
    {
     "name": "stdout",
     "output_type": "stream",
     "text": [
      "Das Maximum ist: 5\n"
     ]
    }
   ],
   "source": [
    "System.out.print(\"Das Maximum ist: \");\n",
    "int a = 3;\n",
    "int b = 5;\n",
    "if (a > b) {\n",
    "    System.out.println(a);\n",
    "} else { \n",
    "    System.out.println(b);\n",
    "}"
   ]
  }
 ],
 "metadata": {
  "celltoolbar": "Slideshow",
  "kernelspec": {
   "display_name": "Java",
   "language": "java",
   "name": "java"
  },
  "language_info": {
   "codemirror_mode": "java",
   "file_extension": ".jshell",
   "mimetype": "text/x-java-source",
   "name": "Java",
   "pygments_lexer": "java",
   "version": "11.0.9.1+1-LTS"
  }
 },
 "nbformat": 4,
 "nbformat_minor": 4
}
