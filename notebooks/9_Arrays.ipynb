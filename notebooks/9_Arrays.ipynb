{
 "cells": [
  {
   "cell_type": "markdown",
   "metadata": {},
   "source": [
    "# Java 9 | Arrays\n",
    "🔗 [interaktiv](https://mybinder.org/v2/gh/gymnasium-immensee/binder/master?urlpath=git-pull%3Frepo%3Dhttps%253A%252F%252Fgithub.com%252Fgymnasium-immensee%252Fjava%26urlpath%3Dtree%252Fjava%252Fnotebooks%26branch%3Dmaster)"
   ]
  },
  {
   "cell_type": "markdown",
   "metadata": {},
   "source": [
    "### Zahlenarrays"
   ]
  },
  {
   "cell_type": "code",
   "execution_count": 17,
   "metadata": {},
   "outputs": [
    {
     "name": "stdout",
     "output_type": "stream",
     "text": [
      "5.0\n",
      "6.0\n"
     ]
    }
   ],
   "source": [
    "// ein leeres Integer-Array mit 10 Plätzen erzeugen\n",
    "double[] noten = new double[6];\n",
    "\n",
    "// einzelne Werte eingeben\n",
    "noten[0] = 3.5; // das erste Element\n",
    "noten[1] = 4;\n",
    "noten[2] = 4.5;\n",
    "noten[3] = 5;\n",
    "noten[4] = 5.5;\n",
    "noten[5] = 6;\n",
    "\n",
    "// einzelne Werte abfragen & drucken\n",
    "System.out.println(noten[3]);\n",
    "System.out.println(noten[5]);"
   ]
  },
  {
   "cell_type": "code",
   "execution_count": 18,
   "metadata": {},
   "outputs": [
    {
     "name": "stdout",
     "output_type": "stream",
     "text": [
      "[D@1fce6df\n",
      "[D@1fce6df\n",
      "6.0\n"
     ]
    }
   ],
   "source": [
    "// Arrays sind Referenzdatentypen,\n",
    "// was zu unerwarteten Resultaten führen kann...\n",
    "\n",
    "// .. z.B. beim Drucken\n",
    "System.out.println(noten);\n",
    "\n",
    "// .. oder beim Zuweisen\n",
    "double[] anderesArray = noten;\n",
    "System.out.println(anderesArray);\n",
    "\n",
    "anderesArray[0] = 6;\n",
    "System.out.println(noten[0]);"
   ]
  },
  {
   "cell_type": "code",
   "execution_count": 19,
   "metadata": {},
   "outputs": [
    {
     "name": "stdout",
     "output_type": "stream",
     "text": [
      "0 1 1 2 3 5 8 13 "
     ]
    }
   ],
   "source": [
    "// Ein Array direkt beim Erzeugen füllen\n",
    "int[] fibonacci = {0, 1, 1, 2, 3, 5, 8, 13};\n",
    "\n",
    "// Mit einer for-Schleife jedes Element drucken\n",
    "\n",
    "for (int i = 0; i < fibonacci.length; i++) {\n",
    "    System.out.print(fibonacci[i] + \" \");\n",
    "}"
   ]
  },
  {
   "cell_type": "markdown",
   "metadata": {},
   "source": [
    "### `char[]` Arrays\n",
    "\n",
    "* [ASCII](https://de.wikipedia.org/wiki/American_Standard_Code_for_Information_Interchange)\n",
    "* [Unicode](https://home.unicode.org/)"
   ]
  },
  {
   "cell_type": "code",
   "execution_count": 20,
   "metadata": {},
   "outputs": [
    {
     "name": "stdout",
     "output_type": "stream",
     "text": [
      "HALLO"
     ]
    }
   ],
   "source": [
    "// Schreiben mit einem char-Array\n",
    "\n",
    "char[] text = {72, 65, 76, 76, 79};\n",
    "\n",
    "for (int i = 0; i < text.length; i++) {\n",
    "    System.out.print(text[i]);\n",
    "}"
   ]
  },
  {
   "cell_type": "markdown",
   "metadata": {},
   "source": [
    "#### die ersten 128 Zeichen drucken"
   ]
  },
  {
   "cell_type": "code",
   "execution_count": 21,
   "metadata": {},
   "outputs": [
    {
     "name": "stdout",
     "output_type": "stream",
     "text": [
      "\u0000 \u0001 \u0002 \u0003 \u0004 \u0005 \u0006 \u0007 \t \n",
      " \u000b",
      " \f",
      " \u000e \u000f \u0010 \u0011 \u0012 \u0013 \u0014 \u0015 \u0016 \u0017 \u0018 \u0019 \u001a \u001b \u001c",
      " \u001d",
      " \u001e",
      " \u001f   ! \" # $ % & ' ( ) * + , - . / 0 1 2 3 4 5 6 7 8 9 : ; < = > ? @ A B C D E F G H I J K L M N O P Q R S T U V W X Y Z [ \\ ] ^ _ ` a b c d e f g h i j k l m n o p q r s t u v w x y z { | } ~  "
     ]
    }
   ],
   "source": [
    "for (int i = 0; i < 128; i++) {\n",
    "    System.out.print((char) i +\" \");\n",
    "}"
   ]
  },
  {
   "cell_type": "markdown",
   "metadata": {},
   "source": [
    "### Mehr Möglichkeiten mit Arrays"
   ]
  },
  {
   "cell_type": "code",
   "execution_count": 22,
   "metadata": {},
   "outputs": [
    {
     "name": "stdout",
     "output_type": "stream",
     "text": [
      "5.166666666666667\n"
     ]
    }
   ],
   "source": [
    "// mit Listenwerten rechnen\n",
    "\n",
    "double summe = 0;\n",
    "for (int i = 0; i < noten.length; i++) {\n",
    "    summe = summe + noten[i];\n",
    "}\n",
    "System.out.println(summe/noten.length);"
   ]
  },
  {
   "cell_type": "code",
   "execution_count": 23,
   "metadata": {},
   "outputs": [
    {
     "name": "stdout",
     "output_type": "stream",
     "text": [
      "Das Maximum ist 8\n"
     ]
    }
   ],
   "source": [
    "// Maximum beliebig vieler Zahlen\n",
    "\n",
    "void max(int[] numbers) {\n",
    "    int max = numbers[0];\n",
    "    for (int i = 0; i < numbers.length; i++) {\n",
    "        if (numbers[i] > max) {\n",
    "            max = numbers[i];\n",
    "        }\n",
    "    }\n",
    "    System.out.println(\"Das Maximum ist \" + max);\n",
    "}\n",
    "\n",
    "int[] numbers = {8, 6, 3, 6, 3, 5, 7};\n",
    "max(numbers);"
   ]
  },
  {
   "cell_type": "markdown",
   "metadata": {},
   "source": [
    "### 🚀 Optionale Extras"
   ]
  },
  {
   "cell_type": "markdown",
   "metadata": {},
   "source": [
    "#### Enhanced for loop"
   ]
  },
  {
   "cell_type": "code",
   "execution_count": 24,
   "metadata": {},
   "outputs": [
    {
     "name": "stdout",
     "output_type": "stream",
     "text": [
      "Das Maximum ist 8\n"
     ]
    }
   ],
   "source": [
    "void max(int[] numbers) {\n",
    "    int max = numbers[0];\n",
    "    for (int number : numbers) {\n",
    "        if (number > max) {\n",
    "            max = number;\n",
    "        }\n",
    "    }\n",
    "    System.out.println(\"Das Maximum ist \" + max);\n",
    "}\n",
    "\n",
    "int[] numbers = {8, 6, 3, 6, 3, 5, 7};\n",
    "max(numbers);"
   ]
  },
  {
   "cell_type": "markdown",
   "metadata": {},
   "source": [
    "#### Multidimensionales Array, resp. Matrix"
   ]
  },
  {
   "cell_type": "code",
   "execution_count": 25,
   "metadata": {},
   "outputs": [
    {
     "name": "stdout",
     "output_type": "stream",
     "text": [
      "1 2 3 \n",
      "3 4 5 6 \n"
     ]
    }
   ],
   "source": [
    "int[][] matrix = {{1, 2, 3},{3, 4, 5, 6}};\n",
    "for (int i = 0; i < matrix.length; i++) {\n",
    "    for (int j = 0; j < matrix[i].length; j++) {\n",
    "        System.out.print(matrix[i][j] + \" \");\n",
    "    }\n",
    "    System.out.println();\n",
    "}\n"
   ]
  },
  {
   "cell_type": "markdown",
   "metadata": {},
   "source": [
    "#### Zwei Arrays auf Gleichheit testen\n",
    "-> verweisen sie also auf das gleichen Objekt auf dem Heap?"
   ]
  },
  {
   "cell_type": "code",
   "execution_count": 26,
   "metadata": {},
   "outputs": [
    {
     "name": "stdout",
     "output_type": "stream",
     "text": [
      "same\n"
     ]
    }
   ],
   "source": [
    "public String compareArrays(int[] arrayA, int[] arrayB) {\n",
    "    if (arrayA == arrayB) {\n",
    "        return(\"same\");\n",
    "    } else {\n",
    "    return(\"different\");\n",
    "    }\n",
    "}\n",
    "int[] inA = new int[7];\n",
    "int[] inB = inA;\n",
    "int[] inC = new int[9];\n",
    "System.out.println(compareArrays(inA, inB));"
   ]
  },
  {
   "cell_type": "markdown",
   "metadata": {},
   "source": [
    "#### Zwei Arrays auf gleichen Inhalt testen\n",
    "-> enthalten sie die gleichen Werte?"
   ]
  },
  {
   "cell_type": "code",
   "execution_count": 27,
   "metadata": {},
   "outputs": [
    {
     "name": "stdout",
     "output_type": "stream",
     "text": [
      "same content\n"
     ]
    }
   ],
   "source": [
    "public String compareArrayContent(int[] arrayA, int[] arrayB) {\n",
    "    if (arrayA.length != arrayB.length) {\n",
    "        return(\"different content\");\n",
    "    } else {\n",
    "        for (int i = 0; i < arrayA.length; i++) {\n",
    "            if (arrayA[i] != arrayB[i]) {\n",
    "                return(\"different content\");\n",
    "            }\n",
    "        } return(\"same content\"); \n",
    "    }\n",
    "}\n",
    "int[] inA = {1, 2, 3, 4, 5, 6, 7, 8, 9, 10};\n",
    "int[] inB = inA;\n",
    "int[] inC = {1, 2, 3, 4, 5, 6, 7, 8, 9, 10};\n",
    "\n",
    "System.out.println(compareArrayContent(inA, inC));"
   ]
  },
  {
   "cell_type": "markdown",
   "metadata": {},
   "source": [
    "#### Wert in einem Array suchen\n",
    "(zeigt ersten Index, weitere Matches werden ignoriert)"
   ]
  },
  {
   "cell_type": "code",
   "execution_count": 28,
   "metadata": {},
   "outputs": [
    {
     "data": {
      "text/plain": [
       "found 3 at index 2"
      ]
     },
     "execution_count": 28,
     "metadata": {},
     "output_type": "execute_result"
    }
   ],
   "source": [
    "static String find(int[] haystack, int needle) {\n",
    "    for (int i = 0; i < haystack.length; i++) {\n",
    "        if (haystack[i] == needle) {\n",
    "            return \"found \" + needle + \" at index \" + i;\n",
    "        }\n",
    "    }\n",
    "    // did not find needle in haystack\n",
    "    return \"did not find \" + needle;\n",
    "}\n",
    "\n",
    "int[] a = {7, 1, 3, 4};\n",
    "find(a, 3);"
   ]
  }
 ],
 "metadata": {
  "kernelspec": {
   "display_name": "Java",
   "language": "java",
   "name": "java"
  },
  "language_info": {
   "codemirror_mode": "java",
   "file_extension": ".jshell",
   "mimetype": "text/x-java-source",
   "name": "Java",
   "pygments_lexer": "java",
   "version": "11.0.9.1+1-LTS"
  }
 },
 "nbformat": 4,
 "nbformat_minor": 4
}
