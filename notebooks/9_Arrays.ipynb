{
 "cells": [
  {
   "cell_type": "markdown",
   "metadata": {},
   "source": [
    "# Java 9 | Arrays\n",
    "🔗 [interaktiv](https://mybinder.org/v2/gh/gymnasium-immensee/binder/master?urlpath=git-pull%3Frepo%3Dhttps%253A%252F%252Fgithub.com%252Fgymnasium-immensee%252Fjava%26urlpath%3Dtree%252Fjava%252Fnotebooks%26branch%3Dmaster)"
   ]
  },
  {
   "cell_type": "markdown",
   "metadata": {},
   "source": [
    "### Zahlenarrays"
   ]
  },
  {
   "cell_type": "code",
   "execution_count": 58,
   "metadata": {},
   "outputs": [
    {
     "name": "stdout",
     "output_type": "stream",
     "text": [
      "5.0\n",
      "6.0\n"
     ]
    }
   ],
   "source": [
    "// ein leeres Integer-Array mit 10 Plätzen erzeugen\n",
    "double[] noten = new double[6];\n",
    "\n",
    "// einzelne Werte eingeben\n",
    "noten[0] = 3.5; // das erste Element\n",
    "noten[1] = 4;\n",
    "noten[2] = 4.5;\n",
    "noten[3] = 5;\n",
    "noten[4] = 5.5;\n",
    "noten[5] = 6;\n",
    "\n",
    "// einzelne Werte abfragen & drucken\n",
    "System.out.println(noten[3]);\n",
    "System.out.println(noten[5]);"
   ]
  },
  {
   "cell_type": "code",
   "execution_count": 57,
   "metadata": {},
   "outputs": [
    {
     "name": "stdout",
     "output_type": "stream",
     "text": [
      "[D@3f17b0fe\n",
      "[D@3f17b0fe\n",
      "6.0\n"
     ]
    }
   ],
   "source": [
    "// Arrays sind Referenzdatentypen,\n",
    "// was zu unerwarteten Resultaten führen kann...\n",
    "\n",
    "// .. z.B. beim Drucken\n",
    "System.out.println(noten);\n",
    "\n",
    "// .. oder beim Zuweisen\n",
    "double[] anderesArray = noten;\n",
    "System.out.println(anderesArray);\n",
    "\n",
    "anderesArray[0] = 6;\n",
    "System.out.println(noten[0]);"
   ]
  },
  {
   "cell_type": "code",
   "execution_count": 49,
   "metadata": {},
   "outputs": [
    {
     "name": "stdout",
     "output_type": "stream",
     "text": [
      "0 1 1 2 3 5 8 13 "
     ]
    }
   ],
   "source": [
    "// Ein Array direkt beim Erzeugen füllen\n",
    "int[] fibonacci = {0, 1, 1, 2, 3, 5, 8, 13};\n",
    "\n",
    "// Per for-Schleife jedes Element drucken\n",
    "\n",
    "for (int i = 0; i < fibonacci.length; i++) {\n",
    "    System.out.print(fibonacci[i] + \" \");\n",
    "}"
   ]
  },
  {
   "cell_type": "markdown",
   "metadata": {},
   "source": [
    "### `char[]` Arrays\n",
    "\n",
    "* [ASCII](https://de.wikipedia.org/wiki/American_Standard_Code_for_Information_Interchange)\n",
    "* [Unicode](https://home.unicode.org/)"
   ]
  },
  {
   "cell_type": "code",
   "execution_count": 14,
   "metadata": {},
   "outputs": [
    {
     "name": "stdout",
     "output_type": "stream",
     "text": [
      "HALLO"
     ]
    }
   ],
   "source": [
    "// Schreiben mit einem char-Array\n",
    "\n",
    "char[] text = {72, 65, 76, 76, 79};\n",
    "\n",
    "for (int i = 0; i < text.length; i++) {\n",
    "    System.out.print(text[i]);\n",
    "}"
   ]
  },
  {
   "cell_type": "markdown",
   "metadata": {},
   "source": [
    "### Mehr Möglichkeiten mit Arrays"
   ]
  },
  {
   "cell_type": "code",
   "execution_count": 22,
   "metadata": {},
   "outputs": [
    {
     "name": "stdout",
     "output_type": "stream",
     "text": [
      "4.75\n"
     ]
    }
   ],
   "source": [
    "// mit Listenwerten rechnen\n",
    "\n",
    "double summe = 0;\n",
    "for (int i = 0; i < noten.length; i++) {\n",
    "    summe = summe + noten[i];\n",
    "}\n",
    "System.out.println(summe/noten.length);"
   ]
  },
  {
   "cell_type": "code",
   "execution_count": 32,
   "metadata": {},
   "outputs": [
    {
     "name": "stdout",
     "output_type": "stream",
     "text": [
      "Das Maximum ist 8\n"
     ]
    }
   ],
   "source": [
    "// Maximum beliebig vieler Zahlen\n",
    "\n",
    "void max(int[] numbers) {\n",
    "    int max = numbers[0];\n",
    "    for (int i = 0; i < numbers.length; i++) {\n",
    "        if (numbers[i] > max) {\n",
    "            max = numbers[i];\n",
    "        }\n",
    "    }\n",
    "    System.out.println(\"Das Maximum ist \" + max);\n",
    "}\n",
    "\n",
    "int[] numbers = {8, 6, 3, 6, 3, 5, 7};\n",
    "max(numbers);"
   ]
  },
  {
   "cell_type": "markdown",
   "metadata": {},
   "source": [
    "### 🚀 Optionale Extras"
   ]
  },
  {
   "cell_type": "code",
   "execution_count": 62,
   "metadata": {},
   "outputs": [
    {
     "name": "stdout",
     "output_type": "stream",
     "text": [
      "Das Maximum ist 8\n"
     ]
    }
   ],
   "source": [
    "// enhanced for loop\n",
    "\n",
    "void max(int[] numbers) {\n",
    "    int max = numbers[0];\n",
    "    for (int number : numbers) {\n",
    "        if (number > max) {\n",
    "            max = number;\n",
    "        }\n",
    "    }\n",
    "    System.out.println(\"Das Maximum ist \" + max);\n",
    "}\n",
    "\n",
    "int[] numbers = {8, 6, 3, 6, 3, 5, 7};\n",
    "max(numbers);"
   ]
  },
  {
   "cell_type": "code",
   "execution_count": 74,
   "metadata": {},
   "outputs": [
    {
     "name": "stdout",
     "output_type": "stream",
     "text": [
      "1 2 3 \n",
      "3 4 5 6 \n"
     ]
    }
   ],
   "source": [
    "// multidimensional\n",
    "\n",
    "int[][] matrix = {{1, 2, 3},{3, 4, 5, 6}};\n",
    "for (int i = 0; i < matrix.length; i++) {\n",
    "    for (int j = 0; j < matrix[i].length; j++) {\n",
    "        System.out.print(matrix[i][j] + \" \");\n",
    "    }\n",
    "    System.out.println();\n",
    "}\n"
   ]
  },
  {
   "cell_type": "code",
   "execution_count": null,
   "metadata": {},
   "outputs": [],
   "source": []
  }
 ],
 "metadata": {
  "kernelspec": {
   "display_name": "Java",
   "language": "java",
   "name": "java"
  },
  "language_info": {
   "codemirror_mode": "java",
   "file_extension": ".jshell",
   "mimetype": "text/x-java-source",
   "name": "Java",
   "pygments_lexer": "java",
   "version": "11.0.9.1+1-LTS"
  }
 },
 "nbformat": 4,
 "nbformat_minor": 4
}
