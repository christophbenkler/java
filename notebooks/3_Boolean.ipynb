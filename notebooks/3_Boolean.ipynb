{
 "cells": [
  {
   "cell_type": "markdown",
   "metadata": {
    "slideshow": {
     "slide_type": "slide"
    }
   },
   "source": [
    "# ☕️ Java 3 | Boolean\n",
    "🔗 [interaktiv](https://mybinder.org/v2/gh/gymnasium-immensee/binder/master?urlpath=git-pull%3Frepo%3Dhttps%253A%252F%252Fgithub.com%252Fgymnasium-immensee%252Fjava%26urlpath%3Dtree%252Fjava%252Fnotebooks%26branch%3Dmaster)"
   ]
  },
  {
   "cell_type": "markdown",
   "metadata": {},
   "source": [
    "* Vergleichsoperatoren\n",
    "* Logische Operatoren\n",
    "* -> resultieren in `true` oder `false`"
   ]
  },
  {
   "cell_type": "markdown",
   "metadata": {
    "slideshow": {
     "slide_type": "slide"
    }
   },
   "source": [
    "## Vergleichsoperatoren\n",
    "\n",
    "| Operator | Ausdruck | Beschreibung        | Liefert `true`, wenn...       |\n",
    "|----------|----------|---------------------|-------------------------------|\n",
    "| >        | a > b    | grösser als         | a grösser ist als b.           |\n",
    "| <        | a < b    | kleiner als         | a kleiner ist als b.           |\n",
    "| ==       | a == b   | gleich              | a und b denselben Wert haben.  |\n",
    "| !=       | a != b   | ungleich            | a und b ungleiche Werte haben. |\n",
    "| >=       | a >= b   | grösser oder gleich | a grösser oder gleich b ist.   |\n",
    "| <=       | a <= b   | kleiner oder gleich | a kleiner oder gleich b ist.   |"
   ]
  },
  {
   "cell_type": "markdown",
   "metadata": {
    "slideshow": {
     "slide_type": "slide"
    }
   },
   "source": [
    "## Logische Operatoren\n",
    "\n",
    "| Operator | Ausdruck | Liefert `true`, wenn...       |\n",
    "|----------|----------|-------------------------------|\n",
    "| !        | !a       | a falsch ist (NOT)            |\n",
    "| &&       | a && b   | sowohl a als auch b wahr sind (AND). Ist a falsch, wird b nicht mehr ausgewertet. |\n",
    "| \\|\\|     | a \\|\\| b | mindestens a oder b wahr sind (OR). Ist a wahr, wird b nicht mehr ausgewertet. |\n",
    "| &        | a & b    | sowohl a als auch b wahr sind (AND). Beide Teilausdrücke werden ausgewertet. |\n",
    "| \\|       | a \\| b   | mindestens a oder b wahr sind (OR). Beide Teilausdrücke werden ausgewertet. |\n",
    "| ^        | a ^ b    | a und b unterschiedliche Wahrheitswerte haben. |"
   ]
  },
  {
   "cell_type": "markdown",
   "metadata": {
    "slideshow": {
     "slide_type": "slide"
    }
   },
   "source": [
    "## Wahrheitstabelle\n",
    "\n",
    "| a | b | !a | a && b | a \\|\\| b | a^b |\n",
    "|----------|----------|---------|------------|----------|--------------|\n",
    "| ✅ true | ✅ true | ❌ false | ✅ true | ✅ true | ❌ false | \n",
    "| ✅ true | ❌ false | ❌ false | ❌ false | ✅ true | ✅ true | \n",
    "| ❌ false | ✅ true | ✅ true | ❌ false | ✅ true | ✅ true | \n",
    "| ❌ false | ❌ false | ✅ true | ❌ false | ❌ false | ❌ false | "
   ]
  },
  {
   "cell_type": "code",
   "execution_count": 36,
   "metadata": {
    "slideshow": {
     "slide_type": "slide"
    }
   },
   "outputs": [
    {
     "name": "stdout",
     "output_type": "stream",
     "text": [
      "true\n",
      "true\n",
      "false\n"
     ]
    }
   ],
   "source": [
    "boolean a = 3 < 7;\n",
    "System.out.println(a);\n",
    "\n",
    "boolean b;\n",
    "b = 3 < 2 || 3 < 10; // false || true\n",
    "System.out.println(b);\n",
    "\n",
    "boolean c;\n",
    "c = 3 < 2 && 3 < 10; // false && true\n",
    "System.out.println(c);"
   ]
  }
 ],
 "metadata": {
  "celltoolbar": "Slideshow",
  "kernelspec": {
   "display_name": "Java",
   "language": "java",
   "name": "java"
  },
  "language_info": {
   "codemirror_mode": "java",
   "file_extension": ".jshell",
   "mimetype": "text/x-java-source",
   "name": "Java",
   "pygments_lexer": "java",
   "version": "11.0.8+10"
  }
 },
 "nbformat": 4,
 "nbformat_minor": 2
}
