{
 "cells": [
  {
   "cell_type": "markdown",
   "metadata": {
    "slideshow": {
     "slide_type": "slide"
    }
   },
   "source": [
    "# Java 7 | Rekursion\n",
    "🔗 [interaktiv](https://mybinder.org/v2/gh/gymnasium-immensee/binder/master?urlpath=git-pull%3Frepo%3Dhttps%253A%252F%252Fgithub.com%252Fgymnasium-immensee%252Fjava%26urlpath%3Dtree%252Fjava%252Fnotebooks%26branch%3Dmaster)"
   ]
  },
  {
   "cell_type": "markdown",
   "metadata": {
    "slideshow": {
     "slide_type": "slide"
    }
   },
   "source": [
    "## Allgemein\n",
    "\n",
    "* Äquivalent zu Schleifen\n",
    "* Benötigt (wie auch Schleifen)\n",
    "    * Startwert\n",
    "    * Abbruchbedingung\n",
    "    * Aktualisierung\n",
    "* Vorteil: oft besser verständlich\n",
    "* Nachteil: höherer Speicherverbrauch, weil die Rücksprungadresse im Call Stack gespeichert werden muss: es kann bei grosser Rekursionstiefe zum «Stack Overflow» kommen\n",
    "* Wird teilweise vom Compiler in eine Schleife umgewandelt)"
   ]
  },
  {
   "cell_type": "markdown",
   "metadata": {},
   "source": [
    "## Fibonacci-Folge\n",
    "\n",
    "* Die \"nullte\" Zahl hat den Wert 0\n",
    "* Die erste Zahl hat den Wert 1\n",
    "* Jede weitere Zahl ist die Summe der beiden vorhergehenden Zahlen der Folge."
   ]
  },
  {
   "cell_type": "code",
   "execution_count": 16,
   "metadata": {},
   "outputs": [],
   "source": [
    "static int fibonacci(int n) {\n",
    "    if (n == 0) {\n",
    "        return 0;\n",
    "    }\n",
    "    if (n == 1) {\n",
    "        return 1;\n",
    "    }\n",
    "    return fibonacci(n - 1) + fibonacci(n - 2);\n",
    "}"
   ]
  },
  {
   "cell_type": "code",
   "execution_count": 20,
   "metadata": {},
   "outputs": [
    {
     "name": "stdout",
     "output_type": "stream",
     "text": [
      "0\n",
      "1\n",
      "1\n",
      "2\n",
      "3\n",
      "5\n",
      "8\n",
      "13\n",
      "21\n",
      "34\n"
     ]
    }
   ],
   "source": [
    "int max = 10;\n",
    "for (int i = 0; i < max; i++) {\n",
    "    System.out.println(fibonacci(i));\n",
    "}"
   ]
  },
  {
   "cell_type": "markdown",
   "metadata": {},
   "source": [
    "## Beispiele\n",
    "\n",
    "* «La vache qui rit»\n",
    "* «GNU»\n",
    "* «Türme von Hanoi»\n",
    "* «Matrioschka»\n",
    "* Fakultät\n",
    "* GGT\n",
    "* Binomialkoeffizient\n",
    "* Binary search"
   ]
  },
  {
   "cell_type": "markdown",
   "metadata": {},
   "source": [
    "## Puzzles\n",
    "\n",
    "* Fakultät"
   ]
  },
  {
   "cell_type": "code",
   "execution_count": null,
   "metadata": {},
   "outputs": [],
   "source": []
  }
 ],
 "metadata": {
  "celltoolbar": "Slideshow",
  "kernelspec": {
   "display_name": "Java",
   "language": "java",
   "name": "java"
  },
  "language_info": {
   "codemirror_mode": "java",
   "file_extension": ".jshell",
   "mimetype": "text/x-java-source",
   "name": "Java",
   "pygments_lexer": "java",
   "version": "11.0.9.1+1-LTS"
  }
 },
 "nbformat": 4,
 "nbformat_minor": 4
}
