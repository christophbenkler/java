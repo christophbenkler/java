{
 "cells": [
  {
   "cell_type": "markdown",
   "metadata": {
    "slideshow": {
     "slide_type": "slide"
    }
   },
   "source": [
    "# Java 2 | Schleifen\n",
    "🔗 [interaktiv](https://mybinder.org/v2/gh/gymnasium-immensee/binder/master?urlpath=git-pull%3Frepo%3Dhttps%253A%252F%252Fgithub.com%252Fgymnasium-immensee%252Fjava%26urlpath%3Dtree%252Fjava%252Fnotebooks%26branch%3Dmaster)"
   ]
  },
  {
   "cell_type": "markdown",
   "metadata": {},
   "source": [
    "* <https://www.youtube.com/watch?v=aabbWJeJF7c>\n",
    "* «... Bingo?!»\n",
    "* «Das ist mein Lieblingsspiel, ich kann mich nicht erinnern, was ich rufe, wenn man gewinnt!»"
   ]
  },
  {
   "cell_type": "markdown",
   "metadata": {
    "slideshow": {
     "slide_type": "slide"
    }
   },
   "source": [
    "## for"
   ]
  },
  {
   "cell_type": "code",
   "execution_count": 1,
   "metadata": {},
   "outputs": [
    {
     "name": "stdout",
     "output_type": "stream",
     "text": [
      "«Bingo!» «Das ist mein Lieblingsspiel, ich kann mich nicht erinnern, was ich rufe, wenn man gewinnt!»\n",
      "«Bingo!» «Das ist mein Lieblingsspiel, ich kann mich nicht erinnern, was ich rufe, wenn man gewinnt!»\n"
     ]
    }
   ],
   "source": [
    "String homer = \"«Das ist mein Lieblingsspiel, ich kann mich nicht erinnern, was ich rufe, wenn man gewinnt!»\";\n",
    "\n",
    "for (int i = 0; i < 2; i++) { // Initialisierung; Bedingung; Update\n",
    "    System.out.print(\"«Bingo!» \"); // Anweisung\n",
    "    System.out.println(homer);     // Anweisung\n",
    "}"
   ]
  },
  {
   "cell_type": "code",
   "execution_count": 12,
   "metadata": {},
   "outputs": [
    {
     "name": "stdout",
     "output_type": "stream",
     "text": [
      "0 1 2 3 4 5 6 7 8 9 10 11 12 13 14 15 16 17 18 19 20 21 22 23 24 25 26 27 28 29 30 31 32 33 34 35 36 37 38 39 40 41 42 43 44 45 46 47 48 49 50 51 52 53 54 55 56 57 58 59 60 61 62 63 64 65 66 67 68 69 70 71 72 73 74 75 76 77 78 79 80 81 82 83 84 85 86 87 88 89 90 91 92 93 94 95 96 97 98 99 "
     ]
    }
   ],
   "source": [
    "for (int j = 0; j < 100; j++) {\n",
    "    System.out.print(j + \" \");\n",
    "}"
   ]
  },
  {
   "cell_type": "code",
   "execution_count": 13,
   "metadata": {},
   "outputs": [
    {
     "name": "stdout",
     "output_type": "stream",
     "text": [
      "100 99 98 97 96 95 94 93 92 91 90 89 88 87 86 85 84 83 82 81 80 79 78 77 76 75 74 73 72 71 70 69 68 67 66 65 64 63 62 61 60 59 58 57 56 55 54 53 52 51 50 49 48 47 46 45 44 43 42 41 40 39 38 37 36 35 34 33 32 31 30 29 28 27 26 25 24 23 22 21 20 19 18 17 16 15 14 13 12 11 10 9 8 7 6 5 4 3 2 1 "
     ]
    }
   ],
   "source": [
    "for (int k = 100; k > 0; k--) {\n",
    "    System.out.print(k + \" \");\n",
    "}"
   ]
  },
  {
   "cell_type": "markdown",
   "metadata": {
    "slideshow": {
     "slide_type": "slide"
    }
   },
   "source": [
    "## while"
   ]
  },
  {
   "cell_type": "code",
   "execution_count": 15,
   "metadata": {},
   "outputs": [
    {
     "name": "stdout",
     "output_type": "stream",
     "text": [
      "0 1 2 3 4 5 6 7 8 9 10 11 12 13 14 15 16 17 18 19 20 21 22 23 24 25 26 27 28 29 "
     ]
    }
   ],
   "source": [
    "int i = 0; // Initialisierung\n",
    "\n",
    "while (i < 30) { // Bedingung\n",
    "    System.out.print(i + \" \"); // Anweisung;\n",
    "    \n",
    "    i = i + 1; // Update\n",
    "    \n",
    "//    i = i + 5;\n",
    "}"
   ]
  },
  {
   "cell_type": "code",
   "execution_count": null,
   "metadata": {},
   "outputs": [],
   "source": [
    "while (0 < 1) {\n",
    "    System.out.print(\"Hello\");\n",
    "}"
   ]
  },
  {
   "cell_type": "markdown",
   "metadata": {},
   "source": [
    "## do-while"
   ]
  },
  {
   "cell_type": "code",
   "execution_count": 49,
   "metadata": {},
   "outputs": [
    {
     "name": "stdout",
     "output_type": "stream",
     "text": [
      "0 1 2 3 4 5 6 7 8 9 10 11 12 13 14 15 16 17 18 19 20 21 22 23 24 25 26 27 28 29 "
     ]
    }
   ],
   "source": [
    "// Unterschied zu 'while': es geschieht immer mindestens ein Durchlauf\n",
    "\n",
    "int j = 0; // Initialisierung\n",
    "\n",
    "do {\n",
    "    System.out.print(j + \" \"); // Anweisung\n",
    "    j = j + 1; // Update\n",
    "//    j = j + 5;\n",
    "} while (j < 30); // Bedingung"
   ]
  },
  {
   "cell_type": "markdown",
   "metadata": {
    "slideshow": {
     "slide_type": "slide"
    }
   },
   "source": [
    "## Verschachtelungen"
   ]
  },
  {
   "cell_type": "code",
   "execution_count": 5,
   "metadata": {},
   "outputs": [
    {
     "name": "stdout",
     "output_type": "stream",
     "text": [
      "1 2 3 4 5 6 7 8 9 \n",
      "2 4 6 8 10 12 14 16 18 \n",
      "3 6 9 12 15 18 21 24 27 \n",
      "4 8 12 16 20 24 28 32 36 \n",
      "5 10 15 20 25 30 35 40 45 \n",
      "6 12 18 24 30 36 42 48 54 \n",
      "7 14 21 28 35 42 49 56 63 \n",
      "8 16 24 32 40 48 56 64 72 \n",
      "9 18 27 36 45 54 63 72 81 \n"
     ]
    }
   ],
   "source": [
    "for (int i = 1; i < 10; i++) {\n",
    "    for (int j = 1; j < 10; j++) {\n",
    "        System.out.print(i * j + \" \");\n",
    "    }\n",
    "    System.out.println();\n",
    "}"
   ]
  },
  {
   "cell_type": "code",
   "execution_count": 48,
   "metadata": {
    "slideshow": {
     "slide_type": "-"
    }
   },
   "outputs": [
    {
     "name": "stdout",
     "output_type": "stream",
     "text": [
      "1 2 3 4 5 6 7 8 9 \n",
      "2 4 6 8 10 12 14 16 18 \n",
      "3 6 9 12 15 18 21 24 27 \n",
      "4 8 12 16 20 24 28 32 36 \n",
      "5 10 15 20 25 30 35 40 45 \n",
      "6 12 18 24 30 36 42 48 54 \n",
      "7 14 21 28 35 42 49 56 63 \n",
      "8 16 24 32 40 48 56 64 72 \n",
      "9 18 27 36 45 54 63 72 81 \n"
     ]
    }
   ],
   "source": [
    "int i, j;\n",
    "\n",
    "i = 1;\n",
    "while (i < 10) {\n",
    "    j = 1;\n",
    "        while (j < 10){\n",
    "            System.out.print(i * j + \" \");\n",
    "            j++;\n",
    "        }\n",
    "        System.out.println();\n",
    "        i++;\n",
    "}"
   ]
  },
  {
   "cell_type": "markdown",
   "metadata": {},
   "source": [
    "## 🧩 Puzzles"
   ]
  },
  {
   "cell_type": "markdown",
   "metadata": {},
   "source": [
    "### GGT"
   ]
  },
  {
   "cell_type": "code",
   "execution_count": 6,
   "metadata": {},
   "outputs": [
    {
     "name": "stdout",
     "output_type": "stream",
     "text": [
      "2\n"
     ]
    }
   ],
   "source": [
    "int x = 4;\n",
    "int y = 6;\n",
    "int rest = x%y;\n",
    "while (rest != 0) {\n",
    "    x = y;\n",
    "    y = rest;\n",
    "    rest = x%y;\n",
    "}\n",
    "System.out.println(y);"
   ]
  },
  {
   "cell_type": "markdown",
   "metadata": {},
   "source": [
    "### Ziffern einer Zahl ausgeben | while"
   ]
  },
  {
   "cell_type": "code",
   "execution_count": 7,
   "metadata": {},
   "outputs": [
    {
     "name": "stdout",
     "output_type": "stream",
     "text": [
      "5\n",
      "4\n",
      "3\n"
     ]
    }
   ],
   "source": [
    "int n = 345;\n",
    "\n",
    "boolean hasExecutedOnce = false;\n",
    "\n",
    "while (hasExecutedOnce == false || n > 0) {\n",
    "    System.out.println(n % 10);\n",
    "    n = n / 10;\n",
    "    hasExecutedOnce = true;\n",
    "}"
   ]
  },
  {
   "cell_type": "markdown",
   "metadata": {},
   "source": [
    "### Ziffern einer Zahl ausgeben | do while"
   ]
  },
  {
   "cell_type": "code",
   "execution_count": 9,
   "metadata": {},
   "outputs": [
    {
     "name": "stdout",
     "output_type": "stream",
     "text": [
      "5\n",
      "4\n",
      "3\n"
     ]
    }
   ],
   "source": [
    "int n = 345;\n",
    "\n",
    "do {\n",
    "    System.out.println(n % 10);\n",
    "    n = n / 10;\n",
    "} while (n > 0);"
   ]
  },
  {
   "cell_type": "markdown",
   "metadata": {},
   "source": [
    "### Quersumme berechnen"
   ]
  },
  {
   "cell_type": "code",
   "execution_count": 10,
   "metadata": {},
   "outputs": [
    {
     "name": "stdout",
     "output_type": "stream",
     "text": [
      "9\n"
     ]
    }
   ],
   "source": [
    "int zahl = 324;\n",
    "int sum;\n",
    "\n",
    "while(zahl != 0) {\n",
    "    sum = sum + zahl % 10;\n",
    "    zahl = zahl / 10;\n",
    "}\n",
    "\n",
    "System.out.println(sum);"
   ]
  },
  {
   "cell_type": "markdown",
   "metadata": {},
   "source": [
    "### Zahl je halbieren bis zwei"
   ]
  },
  {
   "cell_type": "code",
   "execution_count": 11,
   "metadata": {},
   "outputs": [
    {
     "name": "stdout",
     "output_type": "stream",
     "text": [
      "16\n",
      "8\n",
      "4\n",
      "2\n"
     ]
    }
   ],
   "source": [
    "int i = 16;\n",
    "while (i >= 2) {\n",
    "  System.out.println(i);\n",
    "  i = i / 2;        \n",
    "}"
   ]
  },
  {
   "cell_type": "markdown",
   "metadata": {},
   "source": [
    "### Binär zählen bis drei"
   ]
  },
  {
   "cell_type": "code",
   "execution_count": 12,
   "metadata": {},
   "outputs": [
    {
     "name": "stdout",
     "output_type": "stream",
     "text": [
      "0 0\n",
      "0 1\n",
      "1 0\n",
      "1 1\n"
     ]
    }
   ],
   "source": [
    "for (int i = 0; i < 2; i++) {\n",
    "    for (int j = 0; j < 2; j++) {\n",
    "        System.out.print(i);\n",
    "        System.out.print(\" \");\n",
    "        System.out.println(j);\n",
    "    }\n",
    "}"
   ]
  }
 ],
 "metadata": {
  "celltoolbar": "Slideshow",
  "kernelspec": {
   "display_name": "Java",
   "language": "java",
   "name": "java"
  },
  "language_info": {
   "codemirror_mode": "java",
   "file_extension": ".jshell",
   "mimetype": "text/x-java-source",
   "name": "Java",
   "pygments_lexer": "java",
   "version": "11.0.9.1+1-LTS"
  }
 },
 "nbformat": 4,
 "nbformat_minor": 4
}
