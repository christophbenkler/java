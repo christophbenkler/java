{
 "cells": [
  {
   "cell_type": "markdown",
   "metadata": {},
   "source": [
    "# I/O"
   ]
  },
  {
   "cell_type": "markdown",
   "metadata": {},
   "source": [
    "## Scanner"
   ]
  },
  {
   "cell_type": "code",
   "execution_count": 1,
   "metadata": {},
   "outputs": [
    {
     "name": "stdout",
     "output_type": "stream",
     "text": [
      "Bitte gib hier was ein:\n"
     ]
    },
    {
     "name": "stdin",
     "output_type": "stream",
     "text": [
      " Hallo\n"
     ]
    },
    {
     "name": "stdout",
     "output_type": "stream",
     "text": [
      "Hallo\n"
     ]
    }
   ],
   "source": [
    "// importiert die Scanner-Klasse\n",
    "\n",
    "import java.util.Scanner;\n",
    "\n",
    "// erzeugt ein neues Scanner-Objekt\n",
    "\n",
    "Scanner s = new Scanner(System.in);\n",
    "\n",
    "// die Frage wird gestellt\n",
    "\n",
    "System.out.println(\"Bitte gib hier was ein:\");\n",
    "\n",
    "// der Scanner scanned den eingegebenen Text\n",
    "\n",
    "String input = s.next();\n",
    "\n",
    "// Echo\n",
    "\n",
    "System.out.println(input);"
   ]
  },
  {
   "cell_type": "code",
   "execution_count": 3,
   "metadata": {},
   "outputs": [
    {
     "name": "stdout",
     "output_type": "stream",
     "text": [
      "Wie ist das Wetter?\n"
     ]
    },
    {
     "name": "stdin",
     "output_type": "stream",
     "text": [
      " sonnig\n"
     ]
    },
    {
     "name": "stdout",
     "output_type": "stream",
     "text": [
      "Bitte Sonnenbrille einpacken\n"
     ]
    }
   ],
   "source": [
    "import java.util.Scanner;\n",
    "Scanner scan = new Scanner(System.in);\n",
    "\n",
    "System.out.println(\"Wie ist das Wetter?\");\n",
    "String wetter = scan.next();\n",
    "\n",
    "// je nach Eingabe wird etwas anderes ausgegeben\n",
    "switch (wetter) {\n",
    "    case \"sonnig\": System.out.println(\"Bitte Sonnenbrille einpacken\");\n",
    "        break;\n",
    "    case \"regnerisch\": System.out.println(\"Bitte Regenschirm einpacken\");\n",
    "        break;\n",
    "    case \"kalt\": System.out.println(\"Bitte Mütze einpacken\");\n",
    "        break;\n",
    "    default: System.out.println(\"Dieses Wetter kenne ich nicht\");\n",
    "}"
   ]
  },
  {
   "cell_type": "code",
   "execution_count": null,
   "metadata": {},
   "outputs": [],
   "source": [
    "import java.util.Scanner;\n",
    "Scanner scan = new Scanner(System.in);\n",
    "\n",
    "System.out.println(\"Wie ist das Wetter?\");\n",
    "String wetter = scan.next();\n",
    "\n",
    "// je nach Eingabe wird etwas anderes ausgegeben\n",
    "switch (wetter) {\n",
    "    case \"sonnig\": System.out.println(\"Bitte Sonnenbrille einpacken\");\n",
    "        break;\n",
    "    case \"regnerisch\": System.out.println(\"Bitte Regenschirm einpacken\");\n",
    "        break;\n",
    "    case \"kalt\": System.out.println(\"Bitte Mütze einpacken\");\n",
    "        break;\n",
    "    default: System.out.println(\"Dieses Wetter kenne ich nicht\");\n",
    "\n",
    "}"
   ]
  },
  {
   "cell_type": "code",
   "execution_count": 4,
   "metadata": {},
   "outputs": [
    {
     "name": "stdout",
     "output_type": "stream",
     "text": [
      "Du hast noch 3 Versuche.\n",
      "Errate die Zahl zwischen 1 und 10:\n"
     ]
    },
    {
     "name": "stdin",
     "output_type": "stream",
     "text": [
      " 3\n"
     ]
    },
    {
     "name": "stdout",
     "output_type": "stream",
     "text": [
      "Zu niedrig. Du hast noch 2 Versuche.\n",
      "Errate die Zahl zwischen 1 und 10:\n"
     ]
    },
    {
     "name": "stdin",
     "output_type": "stream",
     "text": [
      " 8\n"
     ]
    },
    {
     "name": "stdout",
     "output_type": "stream",
     "text": [
      "Zu hoch. Du hast noch 1 Versuche.\n",
      "Errate die Zahl zwischen 1 und 10:\n"
     ]
    },
    {
     "name": "stdin",
     "output_type": "stream",
     "text": [
      " 7\n"
     ]
    },
    {
     "name": "stdout",
     "output_type": "stream",
     "text": [
      "Gewonnen!\n"
     ]
    }
   ],
   "source": [
    "import java.util.Scanner;\n",
    "\n",
    "Scanner scan = new Scanner(System.in);\n",
    "int zahl = 0;\n",
    "int zufallsZahl = 7;\n",
    "\n",
    "for (int i = 3; i > 0; i--) {\n",
    "    System.out.println(\"Du hast noch \" + i + \" Versuche.\");\n",
    "    System.out.println(\"Errate die Zahl zwischen 1 und 10:\");\n",
    "    \n",
    "    zahl = scan.nextInt();\n",
    "    \n",
    "    if (zahl == zufallsZahl) {\n",
    "        System.out.println(\"Gewonnen!\");\n",
    "        break;\n",
    "    } else if (zahl < zufallsZahl) {\n",
    "        System.out.print(\"Zu niedrig. \");\n",
    "    } else {\n",
    "        System.out.print(\"Zu hoch. \");\n",
    "    }\n",
    "}"
   ]
  },
  {
   "cell_type": "code",
   "execution_count": 5,
   "metadata": {},
   "outputs": [
    {
     "name": "stdout",
     "output_type": "stream",
     "text": [
      "Errate die Zahl zwischen 1 und 10:\n"
     ]
    },
    {
     "name": "stdin",
     "output_type": "stream",
     "text": [
      " 5\n"
     ]
    },
    {
     "name": "stdout",
     "output_type": "stream",
     "text": [
      "Zu hoch. Weiterspielen? (j/n)\n"
     ]
    },
    {
     "name": "stdin",
     "output_type": "stream",
     "text": [
      " j\n"
     ]
    },
    {
     "name": "stdout",
     "output_type": "stream",
     "text": [
      "Errate die Zahl zwischen 1 und 10:\n"
     ]
    },
    {
     "name": "stdin",
     "output_type": "stream",
     "text": [
      " 3\n"
     ]
    },
    {
     "name": "stdout",
     "output_type": "stream",
     "text": [
      "Zu hoch. Weiterspielen? (j/n)\n"
     ]
    },
    {
     "name": "stdin",
     "output_type": "stream",
     "text": [
      " j\n"
     ]
    },
    {
     "name": "stdout",
     "output_type": "stream",
     "text": [
      "Errate die Zahl zwischen 1 und 10:\n"
     ]
    },
    {
     "name": "stdin",
     "output_type": "stream",
     "text": [
      " 2\n"
     ]
    },
    {
     "name": "stdout",
     "output_type": "stream",
     "text": [
      "Gewonnen!\n"
     ]
    }
   ],
   "source": [
    "import java.util.Scanner;\n",
    "\n",
    "Scanner scan = new Scanner(System.in);\n",
    "int zahl = 0;\n",
    "int zufallsZahl = (int) (1 + Math.random()*10);\n",
    "boolean weiterSpielen = true;\n",
    "\n",
    "while (weiterSpielen) {\n",
    "    System.out.println(\"Errate die Zahl zwischen 1 und 10:\");\n",
    "    \n",
    "    zahl = scan.nextInt();\n",
    "    \n",
    "    if (zahl == zufallsZahl) {\n",
    "        System.out.println(\"Gewonnen!\");\n",
    "        break;\n",
    "    } else if (zahl < zufallsZahl) {\n",
    "        System.out.println(\"Zu niedrig. Weiterspielen? (j/n)\");\n",
    "        if (scan.next().equals(\"j\")) {\n",
    "            System.out.println(\"Toll!\");\n",
    "        } else {\n",
    "            weiterSpielen = false;\n",
    "            System.out.println(\"Bis zum nächsten Mal.\");\n",
    "        }\n",
    "    } else {\n",
    "        System.out.println(\"Zu hoch. Weiterspielen? (j/n)\");\n",
    "        if (!scan.next().equals(\"j\")) {\n",
    "            weiterSpielen = false;\n",
    "            System.out.println(\"Bis zum nächsten Mal.\");\n",
    "        }\n",
    "    }\n",
    "}"
   ]
  },
  {
   "cell_type": "markdown",
   "metadata": {},
   "source": [
    "## File lesen & schreiben"
   ]
  },
  {
   "cell_type": "code",
   "execution_count": 6,
   "metadata": {},
   "outputs": [
    {
     "name": "stdout",
     "output_type": "stream",
     "text": [
      "Habe nun, ach! Philosophie,\n",
      "Juristerei und Medizin,\n",
      "Und leider auch Theologie\n",
      "Durchaus studiert, mit heißem Bemühn.\n",
      "Da steh ich nun, ich armer Tor!\n",
      "Und bin so klug als wie zuvor;\n",
      "Heiße Magister, heiße Doktor gar\n",
      "Und ziehe schon an die zehen Jahr\n",
      "Herauf, herab und quer und krumm\n",
      "Meine Schüler an der Nase herum –\n",
      "Und sehe, daß wir nichts wissen können!\n",
      "Das will mir schier das Herz verbrennen.\n",
      "Zwar bin ich gescheiter als all die Laffen,\n",
      "Doktoren, Magister, Schreiber und Pfaffen;\n",
      "Mich plagen keine Skrupel noch Zweifel,\n",
      "Fürchte mich weder vor Hölle noch Teufel –\n",
      "Dafür ist mir auch alle Freud entrissen,\n",
      "Bilde mir nicht ein, was Rechts zu wissen,\n",
      "Bilde mir nicht ein, ich könnte was lehren,\n",
      "Die Menschen zu bessern und zu bekehren.\n",
      "Auch hab ich weder Gut noch Geld,\n",
      "Noch Ehr und Herrlichkeit der Welt;\n",
      "Es möchte kein Hund so länger leben!\n",
      "Drum hab ich mich der Magie ergeben,\n",
      "Ob mir durch Geistes Kraft und Mund\n",
      "Nicht manch Geheimnis würde kund;\n",
      "Daß ich nicht mehr mit saurem Schweiß\n",
      "Zu sagen brauche, was ich nicht weiß;\n",
      "Daß ich erkenne, was die Welt\n",
      "Im Innersten zusammenhält,\n",
      "Schau alle Wirkenskraft und Samen,\n",
      "Und tu nicht mehr in Worten kramen.\n",
      "======\n",
      "Johann Wolfgang von Goethe\n",
      "Faust: Der Tragödie Erster Teil\n",
      "Nacht.\n",
      "https://www.projekt-gutenberg.org\n"
     ]
    }
   ],
   "source": [
    "FileReader fileReader = new FileReader(\"text.txt\");\n",
    "BufferedReader inputStream = new BufferedReader(fileReader);\n",
    "FileWriter fileWriter = new FileWriter(\"text-uppercase.txt\");\n",
    "PrintWriter printWriter = new PrintWriter(fileWriter);\n",
    "\n",
    "String line = inputStream.readLine();\n",
    "while (line != null) {\n",
    "    System.out.println(line);\n",
    "    printWriter.println(line.toUpperCase());\n",
    "    line = inputStream.readLine();\n",
    "}\n",
    "printWriter.close(); // Datei muss geschlossen werden, damit sie gespeichert wird"
   ]
  },
  {
   "cell_type": "code",
   "execution_count": null,
   "metadata": {},
   "outputs": [],
   "source": []
  }
 ],
 "metadata": {
  "kernelspec": {
   "display_name": "Java",
   "language": "java",
   "name": "java"
  },
  "language_info": {
   "codemirror_mode": "java",
   "file_extension": ".jshell",
   "mimetype": "text/x-java-source",
   "name": "Java",
   "pygments_lexer": "java",
   "version": "11.0.9.1+1-LTS"
  }
 },
 "nbformat": 4,
 "nbformat_minor": 4
}
