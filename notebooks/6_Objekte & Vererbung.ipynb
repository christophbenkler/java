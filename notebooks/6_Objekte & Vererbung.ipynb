{
 "cells": [
  {
   "cell_type": "markdown",
   "metadata": {
    "slideshow": {
     "slide_type": "slide"
    }
   },
   "source": [
    "# Java 6 | Objekte & Vererbung\n",
    "🔗 [interaktiv](https://mybinder.org/v2/gh/gymnasium-immensee/binder/master?urlpath=git-pull%3Frepo%3Dhttps%253A%252F%252Fgithub.com%252Fgymnasium-immensee%252Fjava%26urlpath%3Dtree%252Fjava%252Fnotebooks%26branch%3Dmaster)"
   ]
  },
  {
   "cell_type": "markdown",
   "metadata": {
    "slideshow": {
     "slide_type": "slide"
    }
   },
   "source": [
    "## Objekte\n",
    "\n",
    "* Objekte kann man sich als ganz alltägliche Objekte vorstellen (Fahrrad, Auto, Kaffeemaschine, Geometrische Formen, Wecker, Konto, Telefonbuch, Ticketautomat)\n",
    "* In einer Klasse `class Name {}` werden *Eigenschaften (Felder)* & *Methoden* definiert.\n",
    "* Mit `new` wird eine neue Instanz des Objektes erzeugt\n",
    "* Zeichenketten (`String`) sind Instanzen der Objekt-Klasse `String`\n",
    "* «alles» in Java ist ein Objekt (ausser den primitiven Typen `byte`, `short`, `int`, `long`, `float`, `double`, `char`)"
   ]
  },
  {
   "cell_type": "code",
   "execution_count": 165,
   "metadata": {},
   "outputs": [],
   "source": [
    "class Date {\n",
    "    \n",
    "    // Eigenschaften (Felder)\n",
    "    \n",
    "    int day;\n",
    "    String month;\n",
    "    int year;\n",
    "        \n",
    "    // eine Methode zum «drucken»\n",
    "\n",
    "    void print() {\n",
    "        System.out.println(day + \". \" + month + \" \" + year);\n",
    "    }\n",
    "}"
   ]
  },
  {
   "cell_type": "code",
   "execution_count": 166,
   "metadata": {},
   "outputs": [
    {
     "name": "stdout",
     "output_type": "stream",
     "text": [
      "0. null 0\n",
      "1. November 2020\n"
     ]
    }
   ],
   "source": [
    "// neue Instanz erzeugen\n",
    "Date d1 = new Date();\n",
    "\n",
    "// die Eigenschaften (Felder) sind noch leer:\n",
    "d1.print();\n",
    "\n",
    "// die Eigenschaften werden definiert\n",
    "d1.day = 1;\n",
    "d1.month = \"November\";\n",
    "d1.year = 2020;\n",
    "\n",
    "d1.print();"
   ]
  },
  {
   "cell_type": "markdown",
   "metadata": {},
   "source": [
    "## Vererbung\n",
    "\n",
    "* In der Realität kann man Objekte oft hierarchisch ordnen, z.B.\n",
    "    * Lebewesen (Pilze, Pflanzen, Tiere)\n",
    "    * Fahrzeuge (LKW's, PKW's, etc.)\n",
    "    * Zahlen (Integer, Double, etc.)\n",
    "* Einige Felder & Methoden sind dabei für alle Unterobjekte gleich\n",
    "* Das Unterobjekt kann zusätzliche Felder & Methoden haben,\n",
    "* oder bestehende überschreiben `@Override`\n",
    "* mit `d1 instanceof Date;` kann überprüft werden, ob etwas (hier «d1» eine Instanz einer Klasse (hier «Date») ist."
   ]
  },
  {
   "cell_type": "code",
   "execution_count": 167,
   "metadata": {},
   "outputs": [
    {
     "data": {
      "text/plain": [
       "true"
      ]
     },
     "execution_count": 167,
     "metadata": {},
     "output_type": "execute_result"
    }
   ],
   "source": [
    "d1 instanceof Date;"
   ]
  },
  {
   "cell_type": "code",
   "execution_count": 179,
   "metadata": {},
   "outputs": [
    {
     "name": "stdout",
     "output_type": "stream",
     "text": [
      "1 November 2020\n"
     ]
    },
    {
     "data": {
      "text/plain": [
       "true"
      ]
     },
     "execution_count": 179,
     "metadata": {},
     "output_type": "execute_result"
    }
   ],
   "source": [
    "class BritishDate extends Date {\n",
    "    \n",
    "    @Override\n",
    "    void print() {\n",
    "        System.out.println(day + \" \" + month + \" \" + year);\n",
    "    }\n",
    "}\n",
    "\n",
    "BritishDate d2 = new BritishDate();\n",
    "\n",
    "d2.day = 1;\n",
    "d2.month = \"November\";\n",
    "d2.year = 2020;\n",
    "\n",
    "d2.print();\n",
    "d2 instanceof Date;"
   ]
  },
  {
   "cell_type": "code",
   "execution_count": 180,
   "metadata": {},
   "outputs": [
    {
     "name": "stdout",
     "output_type": "stream",
     "text": [
      "November 1 2020\n"
     ]
    },
    {
     "data": {
      "text/plain": [
       "true"
      ]
     },
     "execution_count": 180,
     "metadata": {},
     "output_type": "execute_result"
    }
   ],
   "source": [
    "class AmericanDate extends Date {\n",
    "    \n",
    "    @Override\n",
    "    void print() {\n",
    "        System.out.println(month + \" \" + day + \" \" + year);\n",
    "    }\n",
    "\n",
    "}\n",
    "\n",
    "AmericanDate d3 = new AmericanDate();\n",
    "\n",
    "d3.day = 1;\n",
    "d3.month = \"November\";\n",
    "d3.year = 2020;\n",
    "\n",
    "d3.print();\n",
    "d3 instanceof Date;"
   ]
  },
  {
   "cell_type": "markdown",
   "metadata": {},
   "source": [
    "## Turtle als Objekt\n",
    "\n",
    "* Die Klasse `Turtle` definiert die Felder & Methoden des Objekts «Turtle»\n",
    "* Siehe auch die Dokumentation auf [java-online.ch](http://www.java-online.ch/lego/turtle/doc/ch/aplu/turtle/Turtle.html)\n",
    "* `Turtle joe = new Turtle()` erzeugt eine neue Objekt-Instanz der Klasse Turtle (eine cyanfarbene Schildkröte in ihrem eigenen Fenster)\n",
    "* `new Tu1()` erzeugt eine neue Objekt-Instanz der Klasse «Tu1» (dabei geschieht, was im «Konstruktor» (`Tu1()`) beschrieben ist.\n",
    "* «Konstruktoren» heissen immer gleich wie die Klasse, und helfen dabei, die Felder effizient zu \"setten"
   ]
  },
  {
   "cell_type": "markdown",
   "metadata": {},
   "source": [
    "## Konstruktoren\n",
    "\n",
    "* «Konstruktoren» heissen immer gleich wie die Klasse, und helfen dabei, die Felder effizient zu «setten»"
   ]
  },
  {
   "cell_type": "code",
   "execution_count": 170,
   "metadata": {},
   "outputs": [],
   "source": [
    "class QuickDate extends Date {\n",
    "    \n",
    "    QuickDate(int inputDay, String inputMonth, int inputYear) {\n",
    "        day = inputDay;\n",
    "        month = inputMonth;\n",
    "        year = inputYear;\n",
    "    }\n",
    "}\n",
    "\n"
   ]
  },
  {
   "cell_type": "markdown",
   "metadata": {},
   "source": [
    "## Sichtbarkeit\n",
    "\n",
    "* `public`: solche Klassen/Methoden/Felder können auch von ausserhalb gesehen/verwendet werden. Klassen müssen `public` sein\n",
    "* `private`: nur innerhalb der Klasse sicht-/veränderbar\n",
    "* `protected`: nur im gleichen Package & Subklassen sicht-/veränderbar\n",
    "* ➡️ so oft wie möglich `private`\n",
    "\n",
    "### Setter & Getter Methoden\n",
    "\n",
    "* wenn die Felde `private` sind, benötigt man Methoden, welche die Felder «setten» und «getten» (auslesen) können\n",
    "* Diese sollten von ausserhalb der Klasse sichtbar, also `public` sein\n",
    "* Getter haben keine Parameter, aber dafür einen Rückgabewert\n",
    "* Setter haben einen Parameter, aber keinen Rückgabewert"
   ]
  },
  {
   "cell_type": "code",
   "execution_count": 171,
   "metadata": {},
   "outputs": [
    {
     "name": "stdout",
     "output_type": "stream",
     "text": [
      "1\n",
      "November\n",
      "2020\n"
     ]
    }
   ],
   "source": [
    "public class SafeDate {\n",
    "       \n",
    "    // Felder (von ausserhalb der Klasse nicht sicht-/veränderbar)\n",
    "    \n",
    "    private int day;\n",
    "    private String month;\n",
    "    private int year;\n",
    "      \n",
    "    // Setter\n",
    "    \n",
    "    public void setDay(int inputDay) {\n",
    "        day = inputDay;\n",
    "    }\n",
    "    public void setMonth(String inputMonth) {\n",
    "        month = inputMonth;\n",
    "    }\n",
    "    public void setYear(int inputYear) {\n",
    "        year = inputYear;\n",
    "    }\n",
    "\n",
    "    // Getter\n",
    "    \n",
    "    public int getDay() {\n",
    "        return day;\n",
    "    }\n",
    "    \n",
    "    public String getMonth() {\n",
    "        return month;\n",
    "    }\n",
    "    \n",
    "    public int getYear() {\n",
    "        return year;\n",
    "    }    \n",
    "}\n",
    "\n",
    "SafeDate d5 = new SafeDate();\n",
    "\n",
    "d5.setDay(1);\n",
    "d5.setMonth(\"November\");\n",
    "d5.setYear(2020);\n",
    "\n",
    "System.out.println(d5.getDay());\n",
    "System.out.println(d5.getMonth());\n",
    "System.out.println(d5.getYear());"
   ]
  },
  {
   "cell_type": "markdown",
   "metadata": {},
   "source": [
    "## Klassen als Typen\n",
    "\n",
    "* `Date`, und die Varianten davon, kann man auch als eigen kreierten Datentyp sehen (wie z.B. `String`).\n",
    "* So lassen sich komplett selbst definierte Typen konstruieren...\n",
    "* ... um die Realität so präzise wie möglich zu abstrahieren\n",
    "* ( ... und um `return` verschiedene Werte zurückzugeben).\n",
    "* Um auch `int`, `double`, etc. als echte Objekte zu verwenden, gibt es sogenannte Wrapper-Klassen `Integer`, `Double`"
   ]
  },
  {
   "cell_type": "code",
   "execution_count": null,
   "metadata": {},
   "outputs": [],
   "source": []
  }
 ],
 "metadata": {
  "celltoolbar": "Slideshow",
  "kernelspec": {
   "display_name": "Java",
   "language": "java",
   "name": "java"
  },
  "language_info": {
   "codemirror_mode": "java",
   "file_extension": ".jshell",
   "mimetype": "text/x-java-source",
   "name": "Java",
   "pygments_lexer": "java",
   "version": "11.0.8+10"
  }
 },
 "nbformat": 4,
 "nbformat_minor": 4
}
